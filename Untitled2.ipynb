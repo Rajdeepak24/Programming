{
 "cells": [
  {
   "cell_type": "code",
   "execution_count": null,
   "id": "b86f5d13",
   "metadata": {},
   "outputs": [],
   "source": [
    "n = 12345\n",
    "\n",
    "while(n<0):\n",
    "    rem = n%\n",
    "    "
   ]
  }
 ],
 "metadata": {
  "kernelspec": {
   "display_name": "Python 3",
   "language": "python",
   "name": "python3"
  },
  "language_info": {
   "codemirror_mode": {
    "name": "ipython",
    "version": 3
   },
   "file_extension": ".py",
   "mimetype": "text/x-python",
   "name": "python",
   "nbconvert_exporter": "python",
   "pygments_lexer": "ipython3",
   "version": "3.8.8"
  }
 },
 "nbformat": 4,
 "nbformat_minor": 5
}
