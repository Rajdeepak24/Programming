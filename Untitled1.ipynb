{
 "cells": [
  {
   "cell_type": "code",
   "execution_count": 6,
   "id": "b944f252",
   "metadata": {},
   "outputs": [
    {
     "name": "stdout",
     "output_type": "stream",
     "text": [
      "45875\n",
      "1\n",
      "4\n"
     ]
    }
   ],
   "source": [
    "def srt(n):\n",
    "        for i in range(0,len(n)):\n",
    "            minpos = i\n",
    "            for j in range(i,len(n)):\n",
    "                if n[minpos] > n[j]:\n",
    "                    minpos = j\n",
    "            n[i],n[minpos] = n[minpos], n[i]\n",
    "        return(n)\n",
    "k= list(input())\n",
    "srt(k)\n",
    "f = int(input())\n",
    "print(k[f-1])\n",
    "# print(k)"
   ]
  }
 ],
 "metadata": {
  "kernelspec": {
   "display_name": "Python 3",
   "language": "python",
   "name": "python3"
  },
  "language_info": {
   "codemirror_mode": {
    "name": "ipython",
    "version": 3
   },
   "file_extension": ".py",
   "mimetype": "text/x-python",
   "name": "python",
   "nbconvert_exporter": "python",
   "pygments_lexer": "ipython3",
   "version": "3.8.8"
  }
 },
 "nbformat": 4,
 "nbformat_minor": 5
}
