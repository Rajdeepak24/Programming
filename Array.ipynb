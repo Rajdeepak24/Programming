{
 "cells": [
  {
   "cell_type": "code",
   "execution_count": 15,
   "id": "85f5eb0c",
   "metadata": {},
   "outputs": [
    {
     "name": "stdout",
     "output_type": "stream",
     "text": [
      "54321\n"
     ]
    }
   ],
   "source": [
    "n = 12345\n",
    "rev = 0\n",
    "while(n>0):\n",
    "    a = n%10\n",
    "    rev = rev*10+a\n",
    "    n = n//10\n",
    "print(rev)\n",
    " "
   ]
  },
  {
   "cell_type": "code",
   "execution_count": null,
   "id": "64879fa9",
   "metadata": {},
   "outputs": [],
   "source": []
  },
  {
   "cell_type": "code",
   "execution_count": 21,
   "id": "6743cb86",
   "metadata": {},
   "outputs": [
    {
     "name": "stdout",
     "output_type": "stream",
     "text": [
      "0738631130\n",
      "greatest elemmnt in array issz 8\n",
      "samllest number element is 0\n"
     ]
    }
   ],
   "source": [
    "# n = [2,3,8,4,0,2]\n",
    "\n",
    "# n = [3,4,7,9,1,3,5]\n",
    "n = list(input())\n",
    "l = n[0]\n",
    "s = n[0]\n",
    "\n",
    "for i in n:\n",
    " \n",
    "    if l < (i):\n",
    "        l = i\n",
    "    \n",
    "print(\"greatest elemmnt in array issz\",l)\n",
    "\n",
    "for i in n:\n",
    "    if s>i:\n",
    "        s=i\n",
    "        \n",
    "        \n",
    "        \n",
    "        \n",
    "        \n",
    "\n",
    "print(\"samllest number element is\",s)\n",
    "        \n",
    "    "
   ]
  },
  {
   "cell_type": "code",
   "execution_count": 2,
   "id": "361d72a9",
   "metadata": {},
   "outputs": [
    {
     "name": "stdout",
     "output_type": "stream",
     "text": [
      "1\n"
     ]
    }
   ],
   "source": [
    "n = [3,4,7,9,1,3,5]\n",
    "s = n[0]\n",
    "# print(s)\n",
    "for i in n:\n",
    "#     print(i,end=\" \")\n",
    "    if s > i:\n",
    "        s = i\n",
    "#         print(i,end=\" \")\n",
    "print(s)\n",
    "   "
   ]
  },
  {
   "cell_type": "code",
   "execution_count": null,
   "id": "d42b9e2b",
   "metadata": {},
   "outputs": [],
   "source": [
    " "
   ]
  },
  {
   "cell_type": "code",
   "execution_count": 3,
   "id": "fff1fc84",
   "metadata": {},
   "outputs": [
    {
     "ename": "IndexError",
     "evalue": "list index out of range",
     "output_type": "error",
     "traceback": [
      "\u001b[1;31m---------------------------------------------------------------------------\u001b[0m",
      "\u001b[1;31mIndexError\u001b[0m                                Traceback (most recent call last)",
      "\u001b[1;32m<ipython-input-3-ee4779b4fc79>\u001b[0m in \u001b[0;36m<module>\u001b[1;34m\u001b[0m\n\u001b[0;32m      7\u001b[0m             \u001b[1;32mif\u001b[0m \u001b[0mn\u001b[0m\u001b[1;33m[\u001b[0m\u001b[0mj\u001b[0m\u001b[1;33m]\u001b[0m \u001b[1;33m>\u001b[0m \u001b[0mp\u001b[0m\u001b[1;33m:\u001b[0m\u001b[1;33m\u001b[0m\u001b[1;33m\u001b[0m\u001b[0m\n\u001b[0;32m      8\u001b[0m                 \u001b[0mp\u001b[0m \u001b[1;33m=\u001b[0m \u001b[0mn\u001b[0m\u001b[1;33m[\u001b[0m\u001b[0mj\u001b[0m\u001b[1;33m]\u001b[0m\u001b[1;33m\u001b[0m\u001b[1;33m\u001b[0m\u001b[0m\n\u001b[1;32m----> 9\u001b[1;33m     \u001b[0mn\u001b[0m\u001b[1;33m[\u001b[0m\u001b[0mi\u001b[0m\u001b[1;33m]\u001b[0m\u001b[1;33m,\u001b[0m\u001b[0mn\u001b[0m\u001b[1;33m[\u001b[0m\u001b[0mp\u001b[0m\u001b[1;33m]\u001b[0m \u001b[1;33m=\u001b[0m \u001b[0mn\u001b[0m\u001b[1;33m[\u001b[0m\u001b[0mp\u001b[0m\u001b[1;33m]\u001b[0m\u001b[1;33m,\u001b[0m\u001b[0mn\u001b[0m\u001b[1;33m[\u001b[0m\u001b[0mi\u001b[0m\u001b[1;33m]\u001b[0m\u001b[1;33m\u001b[0m\u001b[1;33m\u001b[0m\u001b[0m\n\u001b[0m\u001b[0;32m     10\u001b[0m \u001b[0mprint\u001b[0m\u001b[1;33m(\u001b[0m\u001b[0mn\u001b[0m\u001b[1;33m)\u001b[0m\u001b[1;33m\u001b[0m\u001b[1;33m\u001b[0m\u001b[0m\n",
      "\u001b[1;31mIndexError\u001b[0m: list index out of range"
     ]
    }
   ],
   "source": [
    "n = [9,2,5,4,6]\n",
    "\n",
    "for i in range(len(n)):\n",
    "    p = n[i]\n",
    "    \n",
    "    for j in range(p,len(n)):\n",
    "            if n[j] > p:\n",
    "                p = n[j]\n",
    "    n[i],n[p] = n[p],n[i]\n",
    "print(n)"
   ]
  },
  {
   "cell_type": "code",
   "execution_count": 86,
   "id": "18a6d2d7",
   "metadata": {},
   "outputs": [
    {
     "name": "stdout",
     "output_type": "stream",
     "text": [
      "5\n",
      "2\n"
     ]
    }
   ],
   "source": [
    "n = 2\n",
    "p = 5\n",
    "n,p = p,n\n",
    "print(n)\n",
    "print(p)"
   ]
  },
  {
   "cell_type": "code",
   "execution_count": null,
   "id": "57cfb133",
   "metadata": {},
   "outputs": [],
   "source": []
  },
  {
   "cell_type": "code",
   "execution_count": null,
   "id": "a4cfcda1",
   "metadata": {},
   "outputs": [],
   "source": []
  },
  {
   "cell_type": "code",
   "execution_count": null,
   "id": "0b5ecd6e",
   "metadata": {},
   "outputs": [],
   "source": []
  },
  {
   "cell_type": "code",
   "execution_count": 13,
   "id": "4e92b372",
   "metadata": {},
   "outputs": [
    {
     "name": "stdout",
     "output_type": "stream",
     "text": [
      "0 1 2 3 4 [2, 1, 1, 1, 1]\n"
     ]
    }
   ],
   "source": [
    "n = [9,5,1,3,2]\n",
    "for i in range(len(n)):\n",
    "    k = i\n",
    "    print(i,end=\" \")\n",
    "    for j in range(i,len(n)):\n",
    "         if n[j]<n[i]:\n",
    "                n[k] = n [j]\n",
    "                \n",
    "                \n",
    "    n[i], n[j] = n[j], n[i]\n",
    "print(n)\n"
   ]
  },
  {
   "cell_type": "code",
   "execution_count": null,
   "id": "2c097e8e",
   "metadata": {},
   "outputs": [],
   "source": []
  },
  {
   "cell_type": "code",
   "execution_count": null,
   "id": "fdb9ee77",
   "metadata": {},
   "outputs": [],
   "source": []
  },
  {
   "cell_type": "code",
   "execution_count": 55,
   "id": "e1c992d6",
   "metadata": {},
   "outputs": [
    {
     "ename": "TypeError",
     "evalue": "object of type 'function' has no len()",
     "output_type": "error",
     "traceback": [
      "\u001b[1;31m---------------------------------------------------------------------------\u001b[0m",
      "\u001b[1;31mTypeError\u001b[0m                                 Traceback (most recent call last)",
      "\u001b[1;32m<ipython-input-55-9b40928ba587>\u001b[0m in \u001b[0;36m<module>\u001b[1;34m\u001b[0m\n\u001b[0;32m     13\u001b[0m             \u001b[0mminpos\u001b[0m\u001b[1;33m,\u001b[0m\u001b[0mn\u001b[0m\u001b[1;33m[\u001b[0m\u001b[0mj\u001b[0m\u001b[1;33m]\u001b[0m \u001b[1;33m=\u001b[0m \u001b[0mn\u001b[0m\u001b[1;33m[\u001b[0m\u001b[0mj\u001b[0m\u001b[1;33m]\u001b[0m\u001b[1;33m,\u001b[0m \u001b[0mminpos\u001b[0m\u001b[1;33m\u001b[0m\u001b[1;33m\u001b[0m\u001b[0m\n\u001b[0;32m     14\u001b[0m             \u001b[1;32mreturn\u001b[0m \u001b[0mn\u001b[0m\u001b[1;33m\u001b[0m\u001b[1;33m\u001b[0m\u001b[0m\n\u001b[1;32m---> 15\u001b[1;33m \u001b[0mnum\u001b[0m \u001b[1;33m=\u001b[0m \u001b[0mn\u001b[0m\u001b[1;33m(\u001b[0m \u001b[1;33m)\u001b[0m\u001b[1;33m\u001b[0m\u001b[1;33m\u001b[0m\u001b[0m\n\u001b[0m\u001b[0;32m     16\u001b[0m \u001b[0mprint\u001b[0m\u001b[1;33m(\u001b[0m\u001b[0mn\u001b[0m\u001b[1;33m)\u001b[0m\u001b[1;33m\u001b[0m\u001b[1;33m\u001b[0m\u001b[0m\n\u001b[0;32m     17\u001b[0m \u001b[1;33m\u001b[0m\u001b[0m\n",
      "\u001b[1;32m<ipython-input-55-9b40928ba587>\u001b[0m in \u001b[0;36mn\u001b[1;34m()\u001b[0m\n\u001b[0;32m      2\u001b[0m \u001b[1;33m\u001b[0m\u001b[0m\n\u001b[0;32m      3\u001b[0m \u001b[1;32mdef\u001b[0m \u001b[0mn\u001b[0m\u001b[1;33m(\u001b[0m\u001b[1;33m)\u001b[0m\u001b[1;33m:\u001b[0m\u001b[1;33m\u001b[0m\u001b[1;33m\u001b[0m\u001b[0m\n\u001b[1;32m----> 4\u001b[1;33m         \u001b[1;32mfor\u001b[0m \u001b[0mi\u001b[0m \u001b[1;32min\u001b[0m \u001b[0mrange\u001b[0m\u001b[1;33m(\u001b[0m\u001b[1;36m0\u001b[0m\u001b[1;33m,\u001b[0m\u001b[0mlen\u001b[0m\u001b[1;33m(\u001b[0m\u001b[0mn\u001b[0m\u001b[1;33m)\u001b[0m\u001b[1;33m)\u001b[0m\u001b[1;33m:\u001b[0m\u001b[1;33m\u001b[0m\u001b[1;33m\u001b[0m\u001b[0m\n\u001b[0m\u001b[0;32m      5\u001b[0m             \u001b[0mminpos\u001b[0m \u001b[1;33m=\u001b[0m \u001b[0mn\u001b[0m\u001b[1;33m[\u001b[0m\u001b[0mi\u001b[0m\u001b[1;33m]\u001b[0m\u001b[1;33m\u001b[0m\u001b[1;33m\u001b[0m\u001b[0m\n\u001b[0;32m      6\u001b[0m         \u001b[1;31m#     print(i,end=\" \")\u001b[0m\u001b[1;33m\u001b[0m\u001b[1;33m\u001b[0m\u001b[1;33m\u001b[0m\u001b[0m\n",
      "\u001b[1;31mTypeError\u001b[0m: object of type 'function' has no len()"
     ]
    }
   ],
   "source": [
    "num = [3,5,2,9,7]\n",
    "\n",
    "def n():\n",
    "        for i in range(0,len(n)):\n",
    "            minpos = n[i]\n",
    "        #     print(i,end=\" \")\n",
    "\n",
    "            for j in range(n[i],len(n)):\n",
    "        #         print(n[j], end=\"  \")\n",
    "                if (minpos>n[j]):\n",
    "        #             print(i)\n",
    "                    n[j]= minpos\n",
    "            minpos,n[j] = n[j], minpos\n",
    "            return n\n",
    "num = n( )\n",
    "print(n)\n",
    "\n",
    "\n",
    "    \n",
    "        \n",
    "\n"
   ]
  },
  {
   "cell_type": "code",
   "execution_count": 19,
   "id": "31b06981",
   "metadata": {},
   "outputs": [
    {
     "name": "stdout",
     "output_type": "stream",
     "text": [
      "> \u001b[1;32m<ipython-input-16-7d288aa29d49>\u001b[0m(10)\u001b[0;36m<module>\u001b[1;34m()\u001b[0m\n",
      "\u001b[1;32m      8 \u001b[1;33m        \u001b[1;32mif\u001b[0m \u001b[1;33m(\u001b[0m\u001b[0mn\u001b[0m\u001b[1;33m[\u001b[0m\u001b[0mi\u001b[0m\u001b[1;33m]\u001b[0m\u001b[1;33m>\u001b[0m\u001b[0mn\u001b[0m\u001b[1;33m[\u001b[0m\u001b[0mj\u001b[0m\u001b[1;33m]\u001b[0m\u001b[1;33m)\u001b[0m\u001b[1;33m:\u001b[0m\u001b[1;33m\u001b[0m\u001b[1;33m\u001b[0m\u001b[0m\n",
      "\u001b[0m\u001b[1;32m      9 \u001b[1;33m            \u001b[0mminpos\u001b[0m \u001b[1;33m=\u001b[0m \u001b[0mn\u001b[0m\u001b[1;33m[\u001b[0m\u001b[0mj\u001b[0m\u001b[1;33m]\u001b[0m\u001b[1;33m\u001b[0m\u001b[1;33m\u001b[0m\u001b[0m\n",
      "\u001b[0m\u001b[1;32m---> 10 \u001b[1;33m    \u001b[0mn\u001b[0m\u001b[1;33m[\u001b[0m\u001b[0mi\u001b[0m\u001b[1;33m]\u001b[0m\u001b[1;33m,\u001b[0m\u001b[0mn\u001b[0m\u001b[1;33m[\u001b[0m\u001b[0mj\u001b[0m\u001b[1;33m]\u001b[0m \u001b[1;33m=\u001b[0m \u001b[0mn\u001b[0m\u001b[1;33m[\u001b[0m\u001b[0mj\u001b[0m\u001b[1;33m]\u001b[0m \u001b[1;33m=\u001b[0m \u001b[0mn\u001b[0m\u001b[1;33m[\u001b[0m\u001b[0mi\u001b[0m\u001b[1;33m]\u001b[0m\u001b[1;33m\u001b[0m\u001b[1;33m\u001b[0m\u001b[0m\n",
      "\u001b[0m\u001b[1;32m     11 \u001b[1;33m\u001b[0mprint\u001b[0m\u001b[1;33m(\u001b[0m\u001b[0mn\u001b[0m\u001b[1;33m)\u001b[0m\u001b[1;33m\u001b[0m\u001b[1;33m\u001b[0m\u001b[0m\n",
      "\u001b[0m\u001b[1;32m     12 \u001b[1;33m\u001b[1;33m\u001b[0m\u001b[0m\n",
      "\u001b[0m\n",
      "ipdb> c\n"
     ]
    }
   ],
   "source": [
    "%debug"
   ]
  },
  {
   "cell_type": "code",
   "execution_count": null,
   "id": "361f2cc4",
   "metadata": {},
   "outputs": [],
   "source": []
  },
  {
   "cell_type": "code",
   "execution_count": null,
   "id": "f49015b0",
   "metadata": {},
   "outputs": [],
   "source": [
    "# max n min element in the array"
   ]
  },
  {
   "cell_type": "code",
   "execution_count": 43,
   "id": "61ba1db6",
   "metadata": {},
   "outputs": [
    {
     "name": "stdout",
     "output_type": "stream",
     "text": [
      "[3, 6, 23, 8, 9, 11]\n",
      "[3, 6, 23, 8, 9, 11]\n",
      "[3, 6, 8, 23, 9, 11]\n",
      "[3, 6, 8, 9, 23, 11]\n",
      "[3, 6, 8, 9, 11, 23]\n",
      "[3, 6, 8, 9, 11, 23]\n",
      "[3, 6, 8, 9, 11, 23]\n"
     ]
    }
   ],
   "source": [
    "n = [23,6,3,8,9,11]\n",
    "\n",
    "for i in range(0,len(n)):\n",
    "    minpos = i\n",
    "#     print(i,end=\" \")\n",
    "#     print(n[i],end =\" \")\n",
    "    for j in range(i,len(n)):\n",
    "#         print(n[j], end = \" \")\n",
    "        \n",
    "        if n[j]<n[minpos]:\n",
    "            minpos = j\n",
    "            \n",
    "            \n",
    "     \n",
    "    n[i], n[minpos] = n[minpos] , n[i]\n",
    "    \n",
    "    print(n)\n",
    "\n",
    "print(n)\n",
    "        \n",
    "# o/p = [3,6,8,9,11,23]"
   ]
  },
  {
   "cell_type": "code",
   "execution_count": null,
   "id": "5e1386a7",
   "metadata": {},
   "outputs": [],
   "source": []
  },
  {
   "cell_type": "code",
   "execution_count": 42,
   "id": "e05233f7",
   "metadata": {},
   "outputs": [
    {
     "name": "stdout",
     "output_type": "stream",
     "text": [
      "0 "
     ]
    },
    {
     "ename": "TypeError",
     "evalue": "'list' object is not callable",
     "output_type": "error",
     "traceback": [
      "\u001b[1;31m---------------------------------------------------------------------------\u001b[0m",
      "\u001b[1;31mTypeError\u001b[0m                                 Traceback (most recent call last)",
      "\u001b[1;32m<ipython-input-42-f1f52f8ea80d>\u001b[0m in \u001b[0;36m<module>\u001b[1;34m\u001b[0m\n\u001b[0;32m     15\u001b[0m \u001b[0mn\u001b[0m \u001b[1;33m=\u001b[0m \u001b[1;33m[\u001b[0m\u001b[1;36m23\u001b[0m\u001b[1;33m,\u001b[0m\u001b[1;36m6\u001b[0m\u001b[1;33m,\u001b[0m\u001b[1;36m3\u001b[0m\u001b[1;33m,\u001b[0m\u001b[1;36m8\u001b[0m\u001b[1;33m,\u001b[0m\u001b[1;36m9\u001b[0m\u001b[1;33m,\u001b[0m\u001b[1;36m11\u001b[0m\u001b[1;33m]\u001b[0m\u001b[1;33m\u001b[0m\u001b[1;33m\u001b[0m\u001b[0m\n\u001b[0;32m     16\u001b[0m \u001b[1;33m\u001b[0m\u001b[0m\n\u001b[1;32m---> 17\u001b[1;33m \u001b[0msortt\u001b[0m\u001b[1;33m(\u001b[0m\u001b[0mn\u001b[0m\u001b[1;33m)\u001b[0m\u001b[1;33m\u001b[0m\u001b[1;33m\u001b[0m\u001b[0m\n\u001b[0m\u001b[0;32m     18\u001b[0m \u001b[0mprint\u001b[0m\u001b[1;33m(\u001b[0m\u001b[0mn\u001b[0m\u001b[1;33m)\u001b[0m\u001b[1;33m\u001b[0m\u001b[1;33m\u001b[0m\u001b[0m\n\u001b[0;32m     19\u001b[0m \u001b[1;33m\u001b[0m\u001b[0m\n",
      "\u001b[1;32m<ipython-input-42-f1f52f8ea80d>\u001b[0m in \u001b[0;36msortt\u001b[1;34m(n)\u001b[0m\n\u001b[0;32m      6\u001b[0m \u001b[1;31m#             print(j,end=\" \")\u001b[0m\u001b[1;33m\u001b[0m\u001b[1;33m\u001b[0m\u001b[1;33m\u001b[0m\u001b[0m\n\u001b[0;32m      7\u001b[0m \u001b[1;31m#             print(minpos, end=\" \")\u001b[0m\u001b[1;33m\u001b[0m\u001b[1;33m\u001b[0m\u001b[1;33m\u001b[0m\u001b[0m\n\u001b[1;32m----> 8\u001b[1;33m             \u001b[0mprint\u001b[0m\u001b[1;33m(\u001b[0m\u001b[0mn\u001b[0m\u001b[1;33m(\u001b[0m\u001b[0mminpos\u001b[0m\u001b[1;33m)\u001b[0m\u001b[1;33m,\u001b[0m\u001b[0mend\u001b[0m\u001b[1;33m=\u001b[0m\u001b[1;34m\" \"\u001b[0m\u001b[1;33m)\u001b[0m\u001b[1;33m\u001b[0m\u001b[1;33m\u001b[0m\u001b[0m\n\u001b[0m\u001b[0;32m      9\u001b[0m             \u001b[1;32mif\u001b[0m \u001b[0mn\u001b[0m\u001b[1;33m[\u001b[0m\u001b[0mj\u001b[0m\u001b[1;33m]\u001b[0m\u001b[1;33m<\u001b[0m\u001b[0mn\u001b[0m\u001b[1;33m[\u001b[0m\u001b[0mminpos\u001b[0m\u001b[1;33m]\u001b[0m\u001b[1;33m:\u001b[0m\u001b[1;33m\u001b[0m\u001b[1;33m\u001b[0m\u001b[0m\n\u001b[0;32m     10\u001b[0m                 \u001b[0mminpos\u001b[0m \u001b[1;33m=\u001b[0m \u001b[0mj\u001b[0m\u001b[1;33m\u001b[0m\u001b[1;33m\u001b[0m\u001b[0m\n",
      "\u001b[1;31mTypeError\u001b[0m: 'list' object is not callable"
     ]
    }
   ],
   "source": [
    "def sortt(n):\n",
    "    for i in range(0,len(n)):\n",
    "        minpos = i\n",
    "        print(i,end=\" \")\n",
    "        for j in range(i,len(n)):\n",
    "#             print(j,end=\" \")\n",
    "#             print(minpos, end=\" \")\n",
    "            print(n(minpos),end=\" \")\n",
    "            if n[j]<n[minpos]:\n",
    "                minpos = j\n",
    "        n[i], n[minpos] = n[minpos] , n[i]\n",
    "#         print(n)\n",
    "    return n\n",
    "\n",
    "n = [23,6,3,8,9,11]\n",
    "\n",
    "sortt(n)\n",
    "print(n)\n",
    "        "
   ]
  },
  {
   "cell_type": "code",
   "execution_count": null,
   "id": "eea79754",
   "metadata": {},
   "outputs": [],
   "source": []
  },
  {
   "cell_type": "code",
   "execution_count": null,
   "id": "a481be56",
   "metadata": {},
   "outputs": [],
   "source": []
  },
  {
   "cell_type": "code",
   "execution_count": null,
   "id": "75dd84ee",
   "metadata": {},
   "outputs": [],
   "source": [
    "n = 12345\n",
    "rev = 0\n",
    "while(n>0):\n",
    "    a = n%10\n",
    "    rev = rev+"
   ]
  },
  {
   "cell_type": "code",
   "execution_count": null,
   "id": "c46fb927",
   "metadata": {},
   "outputs": [],
   "source": []
  },
  {
   "cell_type": "code",
   "execution_count": null,
   "id": "3a8d6ca7",
   "metadata": {},
   "outputs": [],
   "source": [
    "# one dec 1 2021\n"
   ]
  },
  {
   "cell_type": "code",
   "execution_count": 17,
   "id": "d462d469",
   "metadata": {},
   "outputs": [
    {
     "name": "stdout",
     "output_type": "stream",
     "text": [
      "54321\n"
     ]
    }
   ],
   "source": [
    "\n",
    "n = 12345\n",
    "rev = 0\n",
    "while(n>0):\n",
    "    a = n%10\n",
    "    rev = rev*10+a\n",
    "    n = n//10\n",
    "     \n",
    "print(rev)\n",
    "\n"
   ]
  },
  {
   "cell_type": "code",
   "execution_count": null,
   "id": "d285e46a",
   "metadata": {},
   "outputs": [],
   "source": []
  },
  {
   "cell_type": "code",
   "execution_count": 19,
   "id": "9d882468",
   "metadata": {},
   "outputs": [],
   "source": [
    "# min n max?"
   ]
  },
  {
   "cell_type": "code",
   "execution_count": 29,
   "id": "43916b3c",
   "metadata": {},
   "outputs": [
    {
     "name": "stdout",
     "output_type": "stream",
     "text": [
      "[23, 5, 3, 1, 8, 55]\n",
      "[23, 5, 3, 1, 8, 55]\n",
      "[23, 5, 3, 1, 8, 55]\n",
      "[23, 5, 3, 1, 8, 55]\n",
      "[23, 5, 3, 1, 8, 55]\n",
      "[23, 5, 3, 1, 8, 55]\n",
      "[23, 5, 3, 1, 8, 55]\n"
     ]
    }
   ],
   "source": [
    "\n",
    "n = [23,5,3,1,8,55]\n",
    "\n",
    "for i in range (0, len(n)):\n",
    "    minpos=i\n",
    "    for j in range (i+1,len(n)):\n",
    "        if n[j]>n[minpos]:\n",
    "            mipos =j\n",
    "    n[i],n[minpos] = n[minpos],n[i]\n",
    "    print(n)\n",
    "\n",
    "print(n)\n",
    "\n",
    "# o/p = [1,3,5,8,23,55]"
   ]
  },
  {
   "cell_type": "code",
   "execution_count": 32,
   "id": "2fd5f694",
   "metadata": {},
   "outputs": [
    {
     "name": "stdout",
     "output_type": "stream",
     "text": [
      "[23, 6, 3, 8, 9, 11]\n",
      "[23, 11, 3, 8, 9, 6]\n",
      "[23, 11, 9, 8, 3, 6]\n",
      "[23, 11, 9, 8, 3, 6]\n",
      "[23, 11, 9, 8, 6, 3]\n",
      "[23, 11, 9, 8, 6, 3]\n",
      "[23, 11, 9, 8, 6, 3]\n"
     ]
    }
   ],
   "source": [
    "n = [23,6,3,8,9,11]\n",
    "\n",
    "for i in range(0,len(n)):\n",
    "    minpos = i\n",
    "#     print(i,end=\" \")\n",
    "#     print(n[i],end =\" \")\n",
    "    for j in range(i+1,len(n)):\n",
    "#         print(n[j], end = \" \")\n",
    "        \n",
    "        if n[j]<n[minpos]:\n",
    "            minpos = j\n",
    "            \n",
    "            \n",
    "     \n",
    "    n[i], n[minpos] = n[minpos] , n[i]\n",
    "    \n",
    "    print(n)\n",
    "\n",
    "print(n)\n",
    "        \n",
    "# o/p = [3,6,8,9,11,23]"
   ]
  },
  {
   "cell_type": "code",
   "execution_count": null,
   "id": "e48c2049",
   "metadata": {},
   "outputs": [],
   "source": [
    "\n",
    "\n",
    "\n",
    "\n",
    "\n",
    "\n",
    "\n",
    "\n",
    "\n",
    "\n",
    "\n"
   ]
  },
  {
   "cell_type": "code",
   "execution_count": null,
   "id": "66b94026",
   "metadata": {},
   "outputs": [],
   "source": []
  },
  {
   "cell_type": "code",
   "execution_count": 66,
   "id": "e754e199",
   "metadata": {},
   "outputs": [
    {
     "name": "stdout",
     "output_type": "stream",
     "text": [
      "9\n",
      "3\n"
     ]
    }
   ],
   "source": [
    "\n",
    "n = [5,8,7,3,9,4]\n",
    "for i in range(0,len(n)):\n",
    "    minpos = i\n",
    "#     print(n[i])\n",
    "    for j in range(i+1,len(n)):\n",
    "#         print(n[j],end=\"  \")\n",
    "     \n",
    "        if n[j]<n[minpos]:\n",
    "            minpos = j\n",
    "    n[i], n[minpos] = n[minpos], n[i]\n",
    "#     print(n)\n",
    "# print(n)\n",
    "print(max(n))\n",
    "print(min(n))\n",
    "    \n",
    "\n",
    "\n",
    "# o/p =[3,4,5,7,8,9]\n"
   ]
  },
  {
   "cell_type": "code",
   "execution_count": null,
   "id": "be7e517f",
   "metadata": {},
   "outputs": [],
   "source": []
  },
  {
   "cell_type": "code",
   "execution_count": 55,
   "id": "fa236ed6",
   "metadata": {},
   "outputs": [
    {
     "name": "stdout",
     "output_type": "stream",
     "text": [
      "[1, 2, 5, 9, 17]\n",
      "[1, 2, 5, 9, 17]\n",
      "[1, 2, 5, 9, 17]\n",
      "[1, 2, 5, 9, 17]\n",
      "[1, 2, 5, 9, 17]\n",
      "[]\n"
     ]
    }
   ],
   "source": [
    "n = [2,9,1,17,5]\n",
    "for i in range(0,len(n)):\n",
    "    minpos = i\n",
    "    for j in range(i+1,len(n)):\n",
    "        if n[j]<n[minpos]:\n",
    "            minpos = j\n",
    "    n[i], n[minpos] = n[minpos], n[i]\n",
    "#     print(n)\n",
    "# print(n)\n",
    "# print(n[0])\n",
    "l = []\n",
    "for i in range(0,len(n)):\n",
    "    print(n)\n",
    "    \n",
    "    for j in range(i+1,len(n)):\n",
    "        if n[i]>n[j]:\n",
    "            l.append(i)\n",
    "print(l)                            #time complexcity is O(n2)\n",
    "                                    # space is  O(n)"
   ]
  },
  {
   "cell_type": "code",
   "execution_count": 63,
   "id": "11f4d2e1",
   "metadata": {},
   "outputs": [
    {
     "name": "stdout",
     "output_type": "stream",
     "text": [
      "[2, 8, 8, 8, 3, 7]\n"
     ]
    }
   ],
   "source": [
    "n = [2,8,3,7,1]\n",
    "l = []\n",
    "for i in range(0,len(n)):\n",
    "#     print(n)\n",
    "    \n",
    "    for j in range(i+1,len(n)):\n",
    "        if n[i]>n[j]:\n",
    "            l.append(n[i])\n",
    "print(l)"
   ]
  },
  {
   "cell_type": "code",
   "execution_count": null,
   "id": "2bee8fc2",
   "metadata": {},
   "outputs": [],
   "source": []
  },
  {
   "cell_type": "code",
   "execution_count": 67,
   "id": "cd598905",
   "metadata": {},
   "outputs": [
    {
     "name": "stdout",
     "output_type": "stream",
     "text": [
      "[4, 1, 2, 5, 3, 48, -4, -3]\n"
     ]
    }
   ],
   "source": [
    "n = [-4,4,1,2,5,3,-3,48]\n",
    "l = []\n",
    "for i in n:\n",
    "    if i>-1:\n",
    "        l.append(i)\n",
    "for i in n:\n",
    "    if i<-1:\n",
    "        l.append(i)\n",
    "print(l)"
   ]
  },
  {
   "cell_type": "code",
   "execution_count": 78,
   "id": "6bb006f9",
   "metadata": {},
   "outputs": [
    {
     "name": "stdout",
     "output_type": "stream",
     "text": [
      "intersection is [2, 3, 4, 5]\n",
      "union is [1, 2, 3, 4, 5]\n"
     ]
    }
   ],
   "source": [
    "n = [1,2,3,4,5]\n",
    "m = [2,3,4,5,6]\n",
    "l = []\n",
    "p = []\n",
    "for i in n:\n",
    "    for j in m:\n",
    "        if i==j:\n",
    "            l.append(i)\n",
    "for i in n:\n",
    "    for j in m:\n",
    "        if i!=j:\n",
    "            p.append(i)\n",
    "print(\"intersection is\",l)\n",
    "k = []\n",
    "for i in p:\n",
    "    if i not in k:\n",
    "        k.append(i)\n",
    "    \n",
    " \n",
    "print(\"union is\",k)   #time complexcity is O(n2)\n",
    "                                    # space is  O(n)"
   ]
  },
  {
   "cell_type": "code",
   "execution_count": null,
   "id": "6f7dc698",
   "metadata": {},
   "outputs": [],
   "source": []
  },
  {
   "cell_type": "code",
   "execution_count": 183,
   "id": "9d6b09e4",
   "metadata": {},
   "outputs": [
    {
     "name": "stdout",
     "output_type": "stream",
     "text": [
      "[12, 7, 8, 9, 10, 11]\n"
     ]
    }
   ],
   "source": [
    "n = [7,8,9,10,11,12]\n",
    "l = []\n",
    " \n",
    "for i in range(0,len(n)):\n",
    "    temp = n[i]\n",
    "#     print(temp)\n",
    "    n[i] = n[i-1]\n",
    "#     print(n[i-1])\n",
    "    n[i] = temp\n",
    "#     print(n[i])\n",
    "#     print(n[i-1])\n",
    "    l.append(n[i-1])\n",
    "   \n",
    "print(l)\n",
    "         \n",
    "# time complexicity is 0(n)\n",
    "# space is 0(n)\n"
   ]
  },
  {
   "cell_type": "code",
   "execution_count": null,
   "id": "8bacfe9a",
   "metadata": {},
   "outputs": [],
   "source": []
  },
  {
   "cell_type": "code",
   "execution_count": 3,
   "id": "a6265052",
   "metadata": {},
   "outputs": [
    {
     "name": "stdout",
     "output_type": "stream",
     "text": [
      "[1, 2, 3, 4, 7, 8]\n"
     ]
    }
   ],
   "source": [
    "n = [4,8,3,1,2,7]\n",
    "\n",
    "for i in range (0,len(n)):\n",
    "    minpos = i\n",
    "    for j in range(i,len(n)):\n",
    "        if n[j]<n[minpos]:\n",
    "            minpos = j\n",
    "    n[i], n[minpos] = n[minpos] , n[i]\n",
    "print(n)\n",
    "        \n",
    "\n",
    "# op= [1,2,3,4,7,8]"
   ]
  },
  {
   "cell_type": "code",
   "execution_count": null,
   "id": "1086f0bd",
   "metadata": {},
   "outputs": [],
   "source": []
  },
  {
   "cell_type": "code",
   "execution_count": 5,
   "id": "728e3c58",
   "metadata": {},
   "outputs": [],
   "source": [
    "# largest sum contigeous array"
   ]
  },
  {
   "cell_type": "code",
   "execution_count": 13,
   "id": "fe23a34b",
   "metadata": {},
   "outputs": [
    {
     "name": "stdout",
     "output_type": "stream",
     "text": [
      "no of elements want to enter  5\n",
      "enter the number  1\n",
      "enter the number  2\n",
      "enter the number  3\n",
      "enter the number  4\n",
      "enter the number  5\n"
     ]
    }
   ],
   "source": [
    "n = int(input(\"no of elements want to enter  \"))\n",
    "\n",
    "for i in range(0,n):\n",
    "    k = int(input(\"enter the number  \"))\n",
    "# print(k)"
   ]
  },
  {
   "cell_type": "code",
   "execution_count": 75,
   "id": "5e59872c",
   "metadata": {},
   "outputs": [
    {
     "name": "stdout",
     "output_type": "stream",
     "text": [
      "7\n",
      "7\n"
     ]
    }
   ],
   "source": [
    "n = [-2,-9, -3, 4, -6,5,-8,7]\n",
    "\n",
    "maxfar = 0\n",
    "maxend = 0\n",
    "l = []\n",
    "\n",
    "for i in range (0,len(n)):\n",
    "    maxfar = maxfar+n[i]\n",
    "    l.append(maxfar)\n",
    "    if maxfar<maxend:\n",
    "        maxfar=maxend\n",
    "#         l.append(maxfar)\n",
    "    if maxend<0:\n",
    "        maxend = 0\n",
    "# print(l) \n",
    "print(max(l))               # by using inbuid fuction\n",
    "k = 0\n",
    "for i in range(0,len(n)):   # to print the heigst no without inbuid function\n",
    "#     print(n[i])\n",
    "    if n[i]>k:\n",
    "        k = n[i]\n",
    " \n",
    "print(k)\n",
    "#     \n",
    "\n"
   ]
  },
  {
   "cell_type": "code",
   "execution_count": 76,
   "id": "6b8a7943",
   "metadata": {},
   "outputs": [],
   "source": [
    "#  duplicate number remove in array"
   ]
  },
  {
   "cell_type": "code",
   "execution_count": 80,
   "id": "858135a2",
   "metadata": {},
   "outputs": [
    {
     "name": "stdout",
     "output_type": "stream",
     "text": [
      "[2, 3, 4, 1, 5]\n"
     ]
    }
   ],
   "source": [
    "n = [2,3,4,2,1,5,1]\n",
    "l = []\n",
    "for i in n:\n",
    "    if i not in l:\n",
    "        l.append(i)\n",
    "#         print(l)\n",
    "print(l)\n",
    "\n"
   ]
  },
  {
   "cell_type": "code",
   "execution_count": null,
   "id": "54f14053",
   "metadata": {},
   "outputs": [],
   "source": [
    "# print duplicate number "
   ]
  },
  {
   "cell_type": "code",
   "execution_count": 91,
   "id": "ea75d194",
   "metadata": {},
   "outputs": [
    {
     "name": "stdout",
     "output_type": "stream",
     "text": [
      "[2, 1]\n"
     ]
    }
   ],
   "source": [
    "n = [2,3,4,2,1,5,1]\n",
    "l = []\n",
    "for i in range(0,len(n)):\n",
    "    k = n[i]\n",
    "    for j in range(i+1,len(n)):\n",
    "        if k==n[j]:\n",
    "            l.append(n[i])\n",
    "print(l)\n",
    "    \n",
    "    "
   ]
  },
  {
   "cell_type": "code",
   "execution_count": 98,
   "id": "c8834fa1",
   "metadata": {},
   "outputs": [
    {
     "name": "stdout",
     "output_type": "stream",
     "text": [
      "[1, 2, 4, 4, 7, 9]\n"
     ]
    }
   ],
   "source": [
    "n = [1,2,7]\n",
    "m = [9,4,4]\n",
    "k = n+m\n",
    "# print(k)\n",
    "for i in range(0,len(k)):\n",
    "    minpos = i\n",
    "    for j in range(i+1,len(k)):\n",
    "        if k[j]<k[minpos]:\n",
    "            minpos = j\n",
    "    k[i], k[minpos] = k[minpos],k[i]\n",
    "print(k)"
   ]
  },
  {
   "cell_type": "code",
   "execution_count": null,
   "id": "088d4787",
   "metadata": {},
   "outputs": [],
   "source": []
  },
  {
   "cell_type": "code",
   "execution_count": null,
   "id": "80896dc6",
   "metadata": {},
   "outputs": [],
   "source": []
  },
  {
   "cell_type": "code",
   "execution_count": 16,
   "id": "b7e0af34",
   "metadata": {},
   "outputs": [
    {
     "name": "stdout",
     "output_type": "stream",
     "text": [
      "[-2, -9, -3, 4, -2, 5, -3, 7]\n",
      "7\n"
     ]
    }
   ],
   "source": [
    "n = [-2,-9, -3, 4, -6,5,-8,7]\n",
    "maxfar = 0\n",
    "maxend = 0\n",
    "l = []\n",
    "for i in range(0,len(n)):\n",
    "    maxfar = maxfar+n[i]\n",
    "    l.append(maxfar)\n",
    "    if maxend>maxfar:\n",
    "        maxfar = maxend\n",
    "    if maxend<0:\n",
    "        maxend = 0\n",
    "k = 0\n",
    "for i in range(0,len(l)):\n",
    "    if l[i]>k:\n",
    "        k = l[i]\n",
    "\n",
    "    \n",
    "print(l)\n",
    "print(k)"
   ]
  },
  {
   "cell_type": "code",
   "execution_count": null,
   "id": "e67706cc",
   "metadata": {},
   "outputs": [],
   "source": []
  },
  {
   "cell_type": "code",
   "execution_count": 14,
   "id": "59fa88e4",
   "metadata": {},
   "outputs": [
    {
     "name": "stdout",
     "output_type": "stream",
     "text": [
      "[-2, -9, -3, 4, -2, 5, -3, 7]\n"
     ]
    }
   ],
   "source": [
    "n = [-2,-9, -3, 4, -6,5,-8,7]\n",
    "maxfar = 0\n",
    "maxend = 0\n",
    "l = []\n",
    "for i in range(0,len(n)):\n",
    "    maxfar = maxfar+n[i]\n",
    "    l.append(maxfar)\n",
    "    if maxend>maxfar:\n",
    "        maxfar = maxend\n",
    "\n",
    "print(l)"
   ]
  },
  {
   "cell_type": "code",
   "execution_count": null,
   "id": "f14c702b",
   "metadata": {},
   "outputs": [],
   "source": []
  },
  {
   "cell_type": "code",
   "execution_count": 1,
   "id": "64825800",
   "metadata": {},
   "outputs": [],
   "source": [
    "# common element in the array"
   ]
  },
  {
   "cell_type": "code",
   "execution_count": 20,
   "id": "e029cd6b",
   "metadata": {},
   "outputs": [
    {
     "name": "stdout",
     "output_type": "stream",
     "text": [
      "enter the numbe of elements want to print 3\n",
      "enter the numbe of elements want to print 4\n",
      "enter the numbe of elements want to print 3\n",
      "Here is all the input of n1 1\n",
      "Here is all the input of n1 2\n",
      "Here is all the input of n1 3\n",
      "Here is all the input of n2 3\n",
      "Here is all the input of n2 4\n",
      "Here is all the input of n2 5\n",
      "Here is all the input of n2 6\n",
      "Here is all the input of n3 3\n",
      "Here is all the input of n3 8\n",
      "Here is all the input of n3 7\n",
      "common are  [3]\n"
     ]
    }
   ],
   "source": [
    "\n",
    "a = int(input(\"enter the numbe of elements want to print for n1 \"))\n",
    "b = int(input(\"enter the numbe of elements want to print n2 \"))\n",
    "c = int(input(\"enter the numbe of elements want to print n3 \"))\n",
    "n1 = []\n",
    "n2 = []\n",
    "n3 = []\n",
    "for i in range(0,a):\n",
    "    a = int(input(\"Here is all the input of n1 \"))\n",
    "    n1.append(a)\n",
    "     \n",
    "for i in range(0,b):\n",
    "    a = int(input(\"Here is all the input of n2 \"))\n",
    "    n2.append(a)     \n",
    "\n",
    "for i in range(0,c):\n",
    "    a = int(input(\"Here is all the input of n3 \"))\n",
    "    n3.append(a)\n",
    "#\n",
    "# print(n1)\n",
    "# print(n2)\n",
    "# print(n3)\n",
    "\n",
    "# n1 = [2,3,4,5]\n",
    "# n2 = [9,7,5,3,2]\n",
    "# n3 = [2,55,44,87,96]\n",
    "l = []\n",
    "for i in range(0,len(n1)):\n",
    "    for j in range(0,len(n2)):\n",
    "        for k in range(0,len(n3)):\n",
    "            \n",
    "                if (n1[i]==n2[j]) & (n2[j]==n3[k]):\n",
    "                    \n",
    "                    l.append(n2[j])\n",
    "\n",
    "print(n1)\n",
    "print(n2)\n",
    "print(n3)\n",
    "print(\"common are \",l)\n",
    "\n",
    "   \n",
    "\n"
   ]
  },
  {
   "cell_type": "code",
   "execution_count": 22,
   "id": "99d11641",
   "metadata": {},
   "outputs": [
    {
     "name": "stdout",
     "output_type": "stream",
     "text": [
      "4\n"
     ]
    },
    {
     "ename": "AttributeError",
     "evalue": "'int' object has no attribute 'split'",
     "output_type": "error",
     "traceback": [
      "\u001b[1;31m---------------------------------------------------------------------------\u001b[0m",
      "\u001b[1;31mAttributeError\u001b[0m                            Traceback (most recent call last)",
      "\u001b[1;32m<ipython-input-22-0c54a9573e2d>\u001b[0m in \u001b[0;36m<module>\u001b[1;34m\u001b[0m\n\u001b[0;32m      1\u001b[0m \u001b[0mn\u001b[0m \u001b[1;33m=\u001b[0m \u001b[0minput\u001b[0m\u001b[1;33m(\u001b[0m\u001b[1;33m)\u001b[0m\u001b[1;33m\u001b[0m\u001b[1;33m\u001b[0m\u001b[0m\n\u001b[1;32m----> 2\u001b[1;33m \u001b[0mn\u001b[0m \u001b[1;33m=\u001b[0m \u001b[0mlist\u001b[0m\u001b[1;33m(\u001b[0m\u001b[0mmap\u001b[0m\u001b[1;33m,\u001b[0m\u001b[0mint\u001b[0m\u001b[1;33m(\u001b[0m\u001b[0mn\u001b[0m\u001b[1;33m)\u001b[0m\u001b[1;33m.\u001b[0m\u001b[0msplit\u001b[0m\u001b[1;33m(\u001b[0m\u001b[1;33m)\u001b[0m\u001b[1;33m)\u001b[0m\u001b[1;33m\u001b[0m\u001b[1;33m\u001b[0m\u001b[0m\n\u001b[0m",
      "\u001b[1;31mAttributeError\u001b[0m: 'int' object has no attribute 'split'"
     ]
    }
   ],
   "source": [
    "n = input()\n",
    "n = list(map,int(n).split())"
   ]
  },
  {
   "cell_type": "code",
   "execution_count": 26,
   "id": "c8b63551",
   "metadata": {},
   "outputs": [
    {
     "name": "stdout",
     "output_type": "stream",
     "text": [
      "4\n",
      "Enter multiple numbers space-separated:- 4 5 4 5\n",
      "Enter multiple numbers space-separated:- 4\n",
      "Enter multiple numbers space-separated:- 5\n",
      "Enter multiple numbers space-separated:- 4\n"
     ]
    }
   ],
   "source": [
    "n = int(input())\n",
    "for i in range(0,n):\n",
    "\n",
    "    numbers = input(\"Enter multiple numbers space-separated:- \")\n",
    "    # spliting the data and converting ea   ch string number to int\n",
    "    numbers = list(map(int, numbers.split()))"
   ]
  },
  {
   "cell_type": "code",
   "execution_count": 33,
   "id": "2869587a",
   "metadata": {},
   "outputs": [
    {
     "ename": "SyntaxError",
     "evalue": "unexpected EOF while parsing (<ipython-input-33-a5f29c87edb4>, line 8)",
     "output_type": "error",
     "traceback": [
      "\u001b[1;36m  File \u001b[1;32m\"<ipython-input-33-a5f29c87edb4>\"\u001b[1;36m, line \u001b[1;32m8\u001b[0m\n\u001b[1;33m    \u001b[0m\n\u001b[1;37m    ^\u001b[0m\n\u001b[1;31mSyntaxError\u001b[0m\u001b[1;31m:\u001b[0m unexpected EOF while parsing\n"
     ]
    }
   ],
   "source": [
    "T = int(input())\n",
    "for x in range(T):\n",
    "    \n",
    "    n = input()\n",
    "    n = list(map(int, input().split())\n",
    "                \n",
    "                \n",
    "                "
   ]
  },
  {
   "cell_type": "code",
   "execution_count": 30,
   "id": "10859041",
   "metadata": {},
   "outputs": [
    {
     "ename": "SyntaxError",
     "evalue": "unexpected EOF while parsing (<ipython-input-30-381ecca7727d>, line 4)",
     "output_type": "error",
     "traceback": [
      "\u001b[1;36m  File \u001b[1;32m\"<ipython-input-30-381ecca7727d>\"\u001b[1;36m, line \u001b[1;32m4\u001b[0m\n\u001b[1;33m    nums = list(map(int, input().split())\u001b[0m\n\u001b[1;37m                                         ^\u001b[0m\n\u001b[1;31mSyntaxError\u001b[0m\u001b[1;31m:\u001b[0m unexpected EOF while parsing\n"
     ]
    }
   ],
   "source": [
    "n = int(input())\n",
    "for i in range(n):\n",
    "    m = int(input())\n",
    "    nums = list(map(int, input().split())"
   ]
  },
  {
   "cell_type": "code",
   "execution_count": 38,
   "id": "8568c4ca",
   "metadata": {},
   "outputs": [
    {
     "name": "stdout",
     "output_type": "stream",
     "text": [
      "How many numbers do you want to store? 4\n"
     ]
    },
    {
     "ename": "NameError",
     "evalue": "name 'input_list' is not defined",
     "output_type": "error",
     "traceback": [
      "\u001b[1;31m---------------------------------------------------------------------------\u001b[0m",
      "\u001b[1;31mNameError\u001b[0m                                 Traceback (most recent call last)",
      "\u001b[1;32m<ipython-input-38-edfca44bf854>\u001b[0m in \u001b[0;36m<module>\u001b[1;34m\u001b[0m\n\u001b[0;32m      5\u001b[0m \u001b[1;32mfor\u001b[0m \u001b[0minputs\u001b[0m \u001b[1;32min\u001b[0m \u001b[0mrange\u001b[0m\u001b[1;33m(\u001b[0m\u001b[0mx\u001b[0m\u001b[1;33m)\u001b[0m\u001b[1;33m:\u001b[0m\u001b[1;33m\u001b[0m\u001b[1;33m\u001b[0m\u001b[0m\n\u001b[0;32m      6\u001b[0m     \u001b[0minput_number\u001b[0m \u001b[1;33m=\u001b[0m \u001b[0minputs\u001b[0m \u001b[1;33m+\u001b[0m \u001b[1;36m1\u001b[0m\u001b[1;33m\u001b[0m\u001b[1;33m\u001b[0m\u001b[0m\n\u001b[1;32m----> 7\u001b[1;33m     \u001b[0minput_list\u001b[0m\u001b[1;33m.\u001b[0m\u001b[0mappend\u001b[0m\u001b[1;33m(\u001b[0m\u001b[0mint\u001b[0m\u001b[1;33m(\u001b[0m\u001b[0minput\u001b[0m\u001b[1;33m(\u001b[0m\u001b[1;34mf\"Please enter number {input_number}: \"\u001b[0m\u001b[1;33m)\u001b[0m\u001b[1;33m)\u001b[0m\u001b[1;33m)\u001b[0m\u001b[1;33m\u001b[0m\u001b[1;33m\u001b[0m\u001b[0m\n\u001b[0m\u001b[0;32m      8\u001b[0m \u001b[1;33m\u001b[0m\u001b[0m\n\u001b[0;32m      9\u001b[0m \u001b[0mprint\u001b[0m\u001b[1;33m(\u001b[0m\u001b[1;34mf\"Your numbers are {nput_list}\"\u001b[0m\u001b[1;33m)\u001b[0m\u001b[1;33m\u001b[0m\u001b[1;33m\u001b[0m\u001b[0m\n",
      "\u001b[1;31mNameError\u001b[0m: name 'input_list' is not defined"
     ]
    }
   ],
   "source": [
    "nput_list = []\n",
    "\n",
    "x = int(input(\"How many numbers do you want to store? \"))\n",
    "\n",
    "for inputs in range(x):\n",
    "    input_number = inputs + 1\n",
    "    input_list.append(int(input(f\"Please enter number {input_number}: \")))\n",
    "\n",
    "print(f\"Your numbers are {nput_list}\")"
   ]
  },
  {
   "cell_type": "code",
   "execution_count": 13,
   "id": "e34563a4",
   "metadata": {},
   "outputs": [
    {
     "name": "stdout",
     "output_type": "stream",
     "text": [
      "3\n",
      "[1, 5, 1, 5, 7, -1]\n"
     ]
    }
   ],
   "source": [
    "n = [1, 5, 7, -1, 5]\n",
    "# n = list(input())\n",
    "# print(n)\n",
    "\n",
    "# m = int(input())\n",
    "m = 6\n",
    "l = []\n",
    "count = 0\n",
    "for i in range(0,len(n)):\n",
    "     \n",
    "    k = n[i]\n",
    "#     print(n[i],end=\" \")\n",
    "    for j in range(i+1,len(n)):\n",
    "#         print(n[j],end=\" \")\n",
    "        p = n[j]\n",
    "         \n",
    "#         print(n[i])\n",
    "        if p+k==m:\n",
    "            count+=1\n",
    "            l.append(n[i])\n",
    "            l.append(n[j])\n",
    "\n",
    "\n",
    "print(count)\n",
    "print(l)\n"
   ]
  },
  {
   "cell_type": "code",
   "execution_count": 1,
   "id": "1240ad1b",
   "metadata": {},
   "outputs": [
    {
     "name": "stdout",
     "output_type": "stream",
     "text": [
      "yes\n",
      "[2, 1]\n"
     ]
    }
   ],
   "source": [
    "\n",
    "\n",
    "m = 1\n",
    "n = 2\n",
    "k = 3\n",
    "l = []\n",
    "if m+n==k:\n",
    "    print(\"yes\")\n",
    "    l.append(n)\n",
    "    l.append(m)\n",
    "print(l)\n"
   ]
  },
  {
   "cell_type": "code",
   "execution_count": null,
   "id": "4312fef4",
   "metadata": {},
   "outputs": [],
   "source": []
  },
  {
   "cell_type": "code",
   "execution_count": null,
   "id": "eb6b43f6",
   "metadata": {},
   "outputs": [],
   "source": []
  },
  {
   "cell_type": "code",
   "execution_count": 139,
   "id": "8b14ec47",
   "metadata": {},
   "outputs": [
    {
     "name": "stdout",
     "output_type": "stream",
     "text": [
      "-3\n",
      "-1\n",
      "2\n",
      "3\n",
      "9\n",
      "yess\n"
     ]
    }
   ],
   "source": [
    "n = [-3, 2, 3, 1, 6]\n",
    "\n",
    "sum = 0\n",
    "s = set()\n",
    "for i in range(0,len(n)):\n",
    "    sum = sum+n[i]\n",
    "    print(sum)\n",
    "    if sum==0 or sum in s:\n",
    "        print(\"yass\")\n",
    "    s.add(sum)\n",
    "print()"
   ]
  },
  {
   "cell_type": "code",
   "execution_count": 83,
   "id": "d32f0e68",
   "metadata": {},
   "outputs": [
    {
     "name": "stdout",
     "output_type": "stream",
     "text": [
      "[]\n",
      "None\n"
     ]
    }
   ],
   "source": []
  },
  {
   "cell_type": "code",
   "execution_count": 132,
   "id": "cd226d04",
   "metadata": {},
   "outputs": [
    {
     "name": "stdout",
     "output_type": "stream",
     "text": [
      "yass\n"
     ]
    }
   ],
   "source": [
    "n = [-3, 2,1]\n",
    "# n = [-3, 2, 3, 1, 6]\n",
    "sum = 0\n",
    "for i in range(0,len(n)):\n",
    "    sum = sum+n[i]\n",
    "    if sum==0:\n",
    "        print(\"yass\")\n"
   ]
  },
  {
   "cell_type": "code",
   "execution_count": null,
   "id": "48c0dfd3",
   "metadata": {},
   "outputs": [],
   "source": []
  },
  {
   "cell_type": "code",
   "execution_count": 17,
   "id": "9e49f5a9",
   "metadata": {},
   "outputs": [
    {
     "name": "stdout",
     "output_type": "stream",
     "text": [
      "-2 -3 0 7 -8 -2 -3 0 7 -8 -2 0 7 -8 -2 7 -8 -2 -8 -2 -2 "
     ]
    }
   ],
   "source": [
    "n = [ 1, -2, -3, 0, 7, -8, -2 ]\n",
    "\n",
    "maxx = 0\n",
    "l = []\n",
    "for i in range(0,len(n)):\n",
    "        maxx = n[i]\n",
    "#         print(n[i])\n",
    "        for j in range(i+1,len(n)):\n",
    "            print(n[j],end =\" \")\n",
    "            m = n[i]*n[j]\n",
    "#             print(m)\n",
    "            l.append(m)\n",
    "# print(l)\n",
    "    \n"
   ]
  },
  {
   "cell_type": "code",
   "execution_count": null,
   "id": "23e2e384",
   "metadata": {},
   "outputs": [],
   "source": []
  },
  {
   "cell_type": "code",
   "execution_count": 2,
   "id": "55fbd154",
   "metadata": {},
   "outputs": [],
   "source": [
    "# triplet sum?"
   ]
  },
  {
   "cell_type": "code",
   "execution_count": 1,
   "id": "cf4b454b",
   "metadata": {},
   "outputs": [],
   "source": [
    "n = [998, 550 ,557, 562, 628, 468 ,542, 130, 241]\n",
    "sum = 793\n",
    "\n",
    "l = []\n",
    "\n",
    "def find3Numbers(self,A, n, X):\n",
    "    for i in range(0,(len(n)-2)):\n",
    "\n",
    "\n",
    "        for j in range(i+1,(len(n)-1)):\n",
    "\n",
    "            for k in range(i+2,(len(n))):\n",
    "\n",
    "                if n[i]+n[j]+n[k]==sum:\n",
    "                    print((n[i]),n[j],n[k])\n",
    "                return True\n",
    "    return False\n",
    "\n",
    "                \n",
    "\n",
    "                "
   ]
  },
  {
   "cell_type": "code",
   "execution_count": 34,
   "id": "2459308f",
   "metadata": {},
   "outputs": [
    {
     "name": "stdout",
     "output_type": "stream",
     "text": [
      "5\n",
      "120\n"
     ]
    }
   ],
   "source": [
    "n = int(input())\n",
    "fact = 1\n",
    "for i in range(1,n+1):\n",
    "    fact = fact*i\n",
    "print(fact)"
   ]
  },
  {
   "cell_type": "code",
   "execution_count": 38,
   "id": "29443c45",
   "metadata": {},
   "outputs": [
    {
     "name": "stdout",
     "output_type": "stream",
     "text": [
      "[1, 3, 7, 11, 13, 21] [1, 3, 7, 11]\n",
      "yas\n",
      "yas\n",
      "yas\n",
      "yas\n"
     ]
    }
   ],
   "source": [
    "n = [11, 1, 13, 21, 3, 7]\n",
    "m = [11, 3, 7, 1]\n",
    "\n",
    "def sort (n):\n",
    "    for i in range (0,len(n)):\n",
    "        minpos = i\n",
    "        for j in range(i,len(n)):\n",
    "            if n[j]<n[minpos]:\n",
    "                minpos = j\n",
    "        n[i], n[minpos] = n[minpos] , n[i]\n",
    "    return n\n",
    "\n",
    " \n",
    "sort(n)\n",
    "sort(m)\n",
    "\n",
    "print(n,m)\n",
    "l= []\n",
    "for i in m:\n",
    "    for j in n:\n",
    "        if i==j:\n",
    "             \n",
    "            print(\"yas\")\n",
    "             \n",
    " \n",
    "    "
   ]
  },
  {
   "cell_type": "code",
   "execution_count": null,
   "id": "6a3b2bd1",
   "metadata": {},
   "outputs": [],
   "source": []
  },
  {
   "cell_type": "code",
   "execution_count": 20,
   "id": "d7628add",
   "metadata": {},
   "outputs": [
    {
     "name": "stdout",
     "output_type": "stream",
     "text": [
      "[1, 2, 3, 4, 7, 8]\n"
     ]
    }
   ],
   "source": [
    "n = [4,8,3,1,2,7]\n",
    "\n",
    "for i in range (0,len(n)):\n",
    "    minpos = i\n",
    "    for j in range(i,len(n)):\n",
    "        if n[j]<n[minpos]:\n",
    "            minpos = j\n",
    "    n[i], n[minpos] = n[minpos] , n[i]\n",
    "print(n)\n",
    "        \n"
   ]
  },
  {
   "cell_type": "code",
   "execution_count": null,
   "id": "230c0dee",
   "metadata": {},
   "outputs": [],
   "source": [
    "\n"
   ]
  },
  {
   "cell_type": "code",
   "execution_count": 14,
   "id": "199d1d66",
   "metadata": {},
   "outputs": [
    {
     "name": "stdout",
     "output_type": "stream",
     "text": [
      "[-12, -10, -6, -5, -3, 3, 4, 6, 10, 12, 15]\n",
      "3\n"
     ]
    }
   ],
   "source": [
    "\n",
    "def sort (n):\n",
    "    for i in range (0,len(n)):\n",
    "        minpos = i\n",
    "        for j in range(i,len(n)):\n",
    "            if n[j]<n[minpos]:\n",
    "                minpos = j\n",
    "        n[i], n[minpos] = n[minpos] , n[i]\n",
    "    return n\n",
    "\n",
    "# n = [900]\n",
    "# m = [5, 8, 10, 20]\n",
    "n = [ -5, 3, 6, 12, 15 ]\n",
    "m = [ -12, -10, -6, -3, 4, 10 ]\n",
    "k  =n+m\n",
    "# k.sort()\n",
    "sort(k)\n",
    "print(k)\n",
    "l = len(k)//2\n",
    "print(k[l])"
   ]
  },
  {
   "cell_type": "code",
   "execution_count": 16,
   "id": "4b8b5028",
   "metadata": {},
   "outputs": [
    {
     "name": "stdout",
     "output_type": "stream",
     "text": [
      "[-12, -10, -6, -5, -3, 3, 4, 6, 10, 12, 15]\n",
      "3\n"
     ]
    }
   ],
   "source": [
    "def sort (n):                 #by using sorting \n",
    "    for i in range (0,len(n)):\n",
    "        minpos = i\n",
    "        for j in range(i,len(n)):\n",
    "            if n[j]<n[minpos]:\n",
    "                minpos = j\n",
    "        n[i], n[minpos] = n[minpos] , n[i]\n",
    "    return n\n",
    "\n",
    "# n = [900]\n",
    "# m = [5, 8, 10, 20]\n",
    "n = [ -5, 3, 6, 12, 15 ]\n",
    "m = [ -12, -10, -6, -3, 4, 10 ]\n",
    "k  =n+m\n",
    "# k.sort()                                    #by inbuild funtion\n",
    "sort(k)\n",
    "print(k)\n",
    "l = len(k)//2\n",
    "print(k[l])"
   ]
  },
  {
   "cell_type": "code",
   "execution_count": null,
   "id": "09b14068",
   "metadata": {},
   "outputs": [],
   "source": []
  },
  {
   "cell_type": "code",
   "execution_count": 46,
   "id": "b7284709",
   "metadata": {},
   "outputs": [
    {
     "name": "stdout",
     "output_type": "stream",
     "text": [
      "sddz 1 4 6\n"
     ]
    }
   ],
   "source": [
    "n =  [1, 4, 45, 6, 10, 8,9]\n",
    "o = 11\n",
    "m = len(n)\n",
    "for i in range(0,m-2):\n",
    "#     print(n[i])\n",
    "    for j in range(i+1,m-1):\n",
    "#         print(n[j])\n",
    "        for k in range(j+1,m):\n",
    "#             print(n[k])\n",
    "            if n[i]+n[j]+n[k]==o:\n",
    "                print(\"sddz\",n[i],n[j],n[k])\n",
    "# print(n[i],n[j],n[k])"
   ]
  },
  {
   "cell_type": "code",
   "execution_count": null,
   "id": "77cc41aa",
   "metadata": {},
   "outputs": [],
   "source": []
  },
  {
   "cell_type": "code",
   "execution_count": 14,
   "id": "ae78f3c7",
   "metadata": {},
   "outputs": [
    {
     "name": "stdout",
     "output_type": "stream",
     "text": [
      "7\n"
     ]
    }
   ],
   "source": [
    "n = [-2, -3, 4, -1, -2, 1, 5, -3]\n",
    "minpos = 0\n",
    "maxend = 0\n",
    "l = []\n",
    "for i in range(0,len(n)):\n",
    "    minpos = minpos+n[i]\n",
    "   \n",
    "    if minpos <0:\n",
    "        minpos = 0\n",
    "    if minpos > 0:\n",
    "        maxend = minpos\n",
    "        l.append(maxend)\n",
    "     \n",
    "        \n",
    "print(max(l))\n"
   ]
  },
  {
   "cell_type": "code",
   "execution_count": null,
   "id": "e4422e3d",
   "metadata": {},
   "outputs": [],
   "source": []
  },
  {
   "cell_type": "code",
   "execution_count": 4,
   "id": "24ea7c88",
   "metadata": {},
   "outputs": [],
   "source": [
    "# Input:   price[] = {2, 30, 15, 10, 8, 25, 80}\n",
    "# Output:  100\n",
    "# Trader earns 100 as sum of 28 and 72\n",
    "# Buy at price 2, sell at 30, buy at 8 and sell at 80"
   ]
  },
  {
   "cell_type": "code",
   "execution_count": null,
   "id": "e70c592c",
   "metadata": {},
   "outputs": [],
   "source": []
  },
  {
   "cell_type": "code",
   "execution_count": 27,
   "id": "1d5b47aa",
   "metadata": {},
   "outputs": [
    {
     "ename": "TypeError",
     "evalue": "int() argument must be a string, a bytes-like object or a number, not 'list'",
     "output_type": "error",
     "traceback": [
      "\u001b[1;31m---------------------------------------------------------------------------\u001b[0m",
      "\u001b[1;31mTypeError\u001b[0m                                 Traceback (most recent call last)",
      "\u001b[1;32m<ipython-input-27-be924e7b99c0>\u001b[0m in \u001b[0;36m<module>\u001b[1;34m\u001b[0m\n\u001b[0;32m     12\u001b[0m \u001b[0ml\u001b[0m\u001b[1;33m.\u001b[0m\u001b[0mappend\u001b[0m\u001b[1;33m(\u001b[0m\u001b[0mmaxx\u001b[0m\u001b[1;33m)\u001b[0m\u001b[1;33m\u001b[0m\u001b[1;33m\u001b[0m\u001b[0m\n\u001b[0;32m     13\u001b[0m \u001b[0mk\u001b[0m\u001b[1;33m.\u001b[0m\u001b[0mappend\u001b[0m\u001b[1;33m(\u001b[0m\u001b[0mminn\u001b[0m\u001b[1;33m)\u001b[0m\u001b[1;33m\u001b[0m\u001b[1;33m\u001b[0m\u001b[0m\n\u001b[1;32m---> 14\u001b[1;33m \u001b[0mprint\u001b[0m\u001b[1;33m(\u001b[0m\u001b[0mint\u001b[0m\u001b[1;33m(\u001b[0m\u001b[0ml\u001b[0m\u001b[1;33m)\u001b[0m\u001b[1;33m)\u001b[0m\u001b[1;33m\u001b[0m\u001b[1;33m\u001b[0m\u001b[0m\n\u001b[0m\u001b[0;32m     15\u001b[0m \u001b[0mprint\u001b[0m\u001b[1;33m(\u001b[0m\u001b[0mint\u001b[0m\u001b[1;33m(\u001b[0m\u001b[0mk\u001b[0m\u001b[1;33m)\u001b[0m\u001b[1;33m)\u001b[0m\u001b[1;33m\u001b[0m\u001b[1;33m\u001b[0m\u001b[0m\n\u001b[0;32m     16\u001b[0m \u001b[0mprint\u001b[0m\u001b[1;33m(\u001b[0m\u001b[0ml\u001b[0m\u001b[1;33m-\u001b[0m\u001b[0mk\u001b[0m\u001b[1;33m)\u001b[0m\u001b[1;33m\u001b[0m\u001b[1;33m\u001b[0m\u001b[0m\n",
      "\u001b[1;31mTypeError\u001b[0m: int() argument must be a string, a bytes-like object or a number, not 'list'"
     ]
    }
   ],
   "source": [
    "\n",
    "n = [10,22,5,75,65,80]\n",
    "\n",
    "maxx = n[0]\n",
    "minn = n[0]\n",
    "k = []\n",
    "l = []\n",
    "for i in range(0,len(n)):\n",
    "     if n[i]>maxx:\n",
    "            maxx = n[i]\n",
    "     if n[i]<minn:\n",
    "        minn= n[i]\n",
    "l.append(maxx)\n",
    "k.append(minn)\n",
    "\n",
    "print(int(l))   \n",
    "print(int(k))\n",
    "print(l-k)"
   ]
  },
  {
   "cell_type": "code",
   "execution_count": null,
   "id": "8df58f84",
   "metadata": {},
   "outputs": [],
   "source": []
  },
  {
   "cell_type": "code",
   "execution_count": null,
   "id": "36638653",
   "metadata": {},
   "outputs": [],
   "source": []
  },
  {
   "cell_type": "code",
   "execution_count": null,
   "id": "cf88815e",
   "metadata": {},
   "outputs": [],
   "source": []
  },
  {
   "cell_type": "code",
   "execution_count": null,
   "id": "ea3c2023",
   "metadata": {},
   "outputs": [],
   "source": []
  },
  {
   "cell_type": "code",
   "execution_count": null,
   "id": "360b05a1",
   "metadata": {},
   "outputs": [],
   "source": []
  },
  {
   "cell_type": "code",
   "execution_count": null,
   "id": "b34e7a1a",
   "metadata": {},
   "outputs": [],
   "source": []
  },
  {
   "cell_type": "code",
   "execution_count": null,
   "id": "1a549820",
   "metadata": {},
   "outputs": [],
   "source": []
  },
  {
   "cell_type": "code",
   "execution_count": 32,
   "id": "d31063be",
   "metadata": {},
   "outputs": [
    {
     "name": "stdout",
     "output_type": "stream",
     "text": [
      "Sum of prime divisors of  is 15\n"
     ]
    }
   ],
   "source": [
    "# Python 3 program to find\n",
    "# sum of prime divisors of N\n",
    "N = 1000005\n",
    "\n",
    "# Function to check if the\n",
    "# number is prime or not.\n",
    "def isPrime(n):\n",
    "\t\n",
    "\t# Corner cases\n",
    "\tif n <= 1:\n",
    "\t\treturn False\n",
    "\tif n <= 3:\n",
    "\t\treturn True\n",
    "\n",
    "\t# This is checked so that\n",
    "\t# we can skip middle five\n",
    "\t# numbers in below loop\n",
    "\tif n % 2 == 0 or n % 3 == 0:\n",
    "\t\treturn False\n",
    "\n",
    "\ti = 5\n",
    "\twhile i * i <= n:\n",
    "\t\tif (n % i == 0 or\n",
    "\t\t\tn % (i + 2) == 0):\n",
    "\t\t\treturn False\n",
    "\t\ti = i + 6\n",
    "\n",
    "\treturn True\n",
    "\n",
    "# function to find sum\n",
    "# of prime divisors of N\n",
    "def SumOfPrimeDivisors(n):\n",
    "\tsum = 0\n",
    "\tfor i in range(1, n + 1) :\n",
    "\t\tif n % i == 0 :\n",
    "\t\t\tif isPrime(i):\n",
    "\t\t\t\tsum += i\n",
    "\t\n",
    "\treturn sum\n",
    "\n",
    "# Driver code\n",
    "n = 315\n",
    "print(\"Sum of prime divisors of  is \" +\n",
    "\t\t\tstr(SumOfPrimeDivisors(n)))\n",
    "\n",
    "# This code is contributed\n",
    "# by ChitraNayal\n"
   ]
  },
  {
   "cell_type": "code",
   "execution_count": null,
   "id": "9f42e7a3",
   "metadata": {},
   "outputs": [],
   "source": []
  },
  {
   "cell_type": "code",
   "execution_count": 2,
   "id": "f83db95c",
   "metadata": {},
   "outputs": [],
   "source": [
    "# # # longest consecutive\n",
    "\n",
    "# N = 7\n",
    "# a[] = {2,6,1,9,4,5,3}\n",
    "# Output:\n",
    "# 6\n",
    "# Explanation:\n",
    "# The consecutive numbers here\n",
    "# are 1, 2, 3, 4, 5, 6. These 6 \n",
    "# numbers form the longest consecutive\n",
    "# subsquence."
   ]
  },
  {
   "cell_type": "code",
   "execution_count": 66,
   "id": "87b22215",
   "metadata": {},
   "outputs": [
    {
     "name": "stdout",
     "output_type": "stream",
     "text": [
      "[1, 2, 3, 4, 9, 10, 20]\n",
      "[1, 2, 3, 4, 5, 6]\n",
      "4\n"
     ]
    }
   ],
   "source": [
    "n = [1, 9, 3, 10, 4, 20, 2]\n",
    "count = 0\n",
    "\n",
    "def srt(n):\n",
    "    for i in range(0,len(n)):\n",
    "        minpos = i\n",
    "        for j in range(i,len(n)):\n",
    "            if n[minpos] > n[j]:\n",
    "                minpos = j\n",
    "        n[i],n[minpos] = n[minpos], n[i]\n",
    "    return(n)\n",
    "\n",
    "# print(srt(n))\n",
    "k = srt(n)\n",
    "# print(k)\n",
    "l = []\n",
    "m  = []\n",
    "for i in range(0,len(k)):\n",
    "    l.append(k[i])\n",
    "for i in range(1,len(k)):\n",
    "    m.append(i)\n",
    "for i in range(0,len(l)):\n",
    "     \n",
    "    for j in range(0,len(m)):\n",
    "        if l[i]== m[j]:\n",
    "            count+=1\n",
    "\n",
    "print(l)\n",
    "print(m)\n",
    "print(count)\n",
    "\n",
    "\n",
    "\n"
   ]
  },
  {
   "cell_type": "code",
   "execution_count": 7,
   "id": "705d92a6",
   "metadata": {},
   "outputs": [
    {
     "name": "stdout",
     "output_type": "stream",
     "text": [
      "42\n"
     ]
    }
   ],
   "source": [
    "\n",
    " \n",
    "def nums(n):\n",
    "    count = 0\n",
    "    l = []\n",
    "    k = []   \n",
    "    for i in range(1,len(n)+1):\n",
    "        l.append(i)\n",
    "    for i in range(0,len(n)):\n",
    "        if n[i] not in k:\n",
    "            k.append(n[i])\n",
    "    for i in range(0,len(k)):\n",
    "         for j in range(0,len(l)):\n",
    "            if k[i]==l[j]:\n",
    "                count+=14\n",
    "    return count\n",
    "# print(n)\n",
    "# print(l)\n",
    "n = [ 1, 2, 2, 3 ]\n",
    "k = nums(n)\n",
    "print(k)"
   ]
  },
  {
   "cell_type": "code",
   "execution_count": null,
   "id": "8b201c3b",
   "metadata": {},
   "outputs": [],
   "source": []
  },
  {
   "cell_type": "code",
   "execution_count": 2,
   "id": "da74c816",
   "metadata": {},
   "outputs": [
    {
     "name": "stdout",
     "output_type": "stream",
     "text": [
      "[1, 2, 3, 4, 100, 200]\n",
      "4\n"
     ]
    }
   ],
   "source": [
    "# n = [36, 41, 56, 35, 44, 33, 34, 92, 43, 32, 42]\n",
    "# n =  [ 1, 2, 2, 3 ]\n",
    "# n = [1,2,2,8,7,8,,10]\n",
    "n =  [100, 4, 200, 1, 3, 2]\n",
    "count = 0\n",
    "\n",
    "def srt(n):\n",
    "    for i in range(0,len(n)):\n",
    "        minpos = i\n",
    "        for j in range(i,len(n)):\n",
    "            if n[minpos] > n[j]:\n",
    "                minpos = j\n",
    "        n[i],n[minpos] = n[minpos], n[i]\n",
    "    return(n)\n",
    "\n",
    "k = srt(n)\n",
    "f = k[0]\n",
    "for i in range(0,len(k)):\n",
    "    if k[i]==f:\n",
    "        f+=1\n",
    "        count+=1\n",
    "     \n",
    "    \n",
    "    \n",
    "print(k)\n",
    "print(count)   "
   ]
  },
  {
   "cell_type": "code",
   "execution_count": 11,
   "id": "d0d9d5fc",
   "metadata": {},
   "outputs": [
    {
     "name": "stdout",
     "output_type": "stream",
     "text": [
      "2\n"
     ]
    }
   ],
   "source": [
    "def lng(n):\n",
    "    count = 0\n",
    "\n",
    "    def srt(n):\n",
    "        for i in range(0,len(n)):\n",
    "            minpos = i\n",
    "            for j in range(i,len(n)):\n",
    "                if n[minpos] > n[j]:\n",
    "                    minpos = j\n",
    "            n[i],n[minpos] = n[minpos], n[i]\n",
    "        return(n)\n",
    "\n",
    "    k = srt(n)\n",
    "    f = k[0]\n",
    "    for i in range(0,len(k)):\n",
    "        if k[i]==f:\n",
    "            f+=1\n",
    "            count+=1\n",
    "    return count\n",
    "# n =   [100, 4, 200, 1, 3, 2]\n",
    "# n = [36, 41, 56, 35, 44, 33, 34, 92, 43, 32, 42]\n",
    "# n =  [ 1, 2, 2, 3 ]\n",
    "# n = [1,2,2,8,7,8,10]\n",
    "print(lng(n))\n",
    "            \n",
    "        "
   ]
  },
  {
   "cell_type": "code",
   "execution_count": 16,
   "id": "8affa7da",
   "metadata": {},
   "outputs": [
    {
     "name": "stdout",
     "output_type": "stream",
     "text": [
      "1\n",
      "[1, 3, 4, 10, 11, 12, 13, 32, 56, 57]\n"
     ]
    }
   ],
   "source": [
    "def srt(n):\n",
    "        for i in range(0,len(n)):\n",
    "            minpos = i\n",
    "            for j in range(i,len(n)):\n",
    "                if n[minpos] > n[j]:\n",
    "                    minpos = j\n",
    "            n[i],n[minpos] = n[minpos], n[i]\n",
    "        return(n)\n",
    "n = [3,4,1,13,11,10,12,56,57,32]\n",
    "q = srt(n)\n",
    "maxx = n[0]\n",
    "  \n",
    "print(maxx)\n",
    "\n",
    "print(n)\n",
    "    \n",
    "# o/p = [1, 3, 4, 10, 11, 12, 13, 32, 56, 57]\n",
    "# o/p = 4"
   ]
  },
  {
   "cell_type": "code",
   "execution_count": 119,
   "id": "850b5145",
   "metadata": {},
   "outputs": [
    {
     "name": "stdout",
     "output_type": "stream",
     "text": [
      "[100, 4, 200, 1, 3, 2]\n"
     ]
    }
   ],
   "source": [
    "# n = [0,2,3,9,10,11,12,31,55,56\n",
    " \n",
    "# n  = [1,2,3,4,5]\n",
    "# n = [1,2,2,8,7,8,,10]\n",
    "# n =  [100, 4, 200, 1, 3, 2]\n",
    "# n =  [ 1, 2, 2, 3 ]\n",
    "\n",
    "# n = [36, 41, 56, 35, 44, 33, 34, 92, 43, 32, 42]\n",
    "# n =  [ 1, 2, 2, 3 ]\n",
    "# n = [1,2,2,8,7,8,,10]\n",
    "n =  [100, 4, 200, 1, 3, 2]\n",
    "k = n\n",
    "for i in range(0,len(n)):\n",
    "    p= i\n",
    "    for j in range(i,len(k)):\n",
    "        if n[i]==k[j]:\n",
    "            l.append(n[i])\n",
    "print(k)\n",
    " "
   ]
  },
  {
   "cell_type": "code",
   "execution_count": null,
   "id": "5cde19b1",
   "metadata": {},
   "outputs": [],
   "source": []
  },
  {
   "cell_type": "code",
   "execution_count": null,
   "id": "1e503604",
   "metadata": {},
   "outputs": [],
   "source": []
  },
  {
   "cell_type": "code",
   "execution_count": null,
   "id": "ba3dcd11",
   "metadata": {},
   "outputs": [],
   "source": []
  },
  {
   "cell_type": "code",
   "execution_count": 35,
   "id": "1607a599",
   "metadata": {},
   "outputs": [
    {
     "name": "stdout",
     "output_type": "stream",
     "text": [
      "1 1 3 1 3 5 1 3 5 7 1 3 5 7 8 1 3 5 7 8 9 0\n",
      "[0, 2, 4, 6, 7, 8]\n"
     ]
    }
   ],
   "source": [
    "n = [1,3,5,7,8,9]\n",
    "l = []\n",
    "count= 0\n",
    "for i in range(0,len(n)):\n",
    "    k = n[i]-1\n",
    "    l.append(k)\n",
    "    for j in range(0,len(l)):\n",
    "        print(n[j],end=\" \")\n",
    "    \n",
    "        if n[i]==l[j]:\n",
    "                count+=1\n",
    "     \n",
    "     \n",
    " \n",
    "print(count)\n",
    "print(l)\n",
    "    \n",
    "    "
   ]
  },
  {
   "cell_type": "code",
   "execution_count": null,
   "id": "80c1c291",
   "metadata": {},
   "outputs": [],
   "source": []
  },
  {
   "cell_type": "code",
   "execution_count": 56,
   "id": "e610b456",
   "metadata": {},
   "outputs": [
    {
     "name": "stdout",
     "output_type": "stream",
     "text": [
      "[0]\n",
      "[0, 2]\n",
      "[0, 2, 4]\n",
      "[0, 2, 4, 6]\n",
      "[0, 2, 4, 6, 7]\n",
      "[0, 2, 4, 6, 7, 8]\n"
     ]
    }
   ],
   "source": [
    "n = [1,3,5,7,8,9]\n",
    "l = []\n",
    "count= 0\n",
    "for i in range(0,len(n)):\n",
    "    k = n[i]-1\n",
    "    l.append(k)\n",
    "    print(l)\n",
    "    for j in range(0,len(l)):\n",
    "        \n",
    "     \n",
    "        if n[i]==l[j]:\n",
    "            print(i)\n",
    "        \n",
    "        "
   ]
  },
  {
   "cell_type": "code",
   "execution_count": null,
   "id": "eb4a7b79",
   "metadata": {},
   "outputs": [],
   "source": []
  },
  {
   "cell_type": "code",
   "execution_count": null,
   "id": "cc963549",
   "metadata": {},
   "outputs": [],
   "source": []
  },
  {
   "cell_type": "code",
   "execution_count": null,
   "id": "d1172895",
   "metadata": {},
   "outputs": [],
   "source": []
  },
  {
   "cell_type": "code",
   "execution_count": null,
   "id": "130e9132",
   "metadata": {},
   "outputs": [],
   "source": []
  },
  {
   "cell_type": "code",
   "execution_count": null,
   "id": "582f1fc7",
   "metadata": {},
   "outputs": [],
   "source": []
  },
  {
   "cell_type": "code",
   "execution_count": null,
   "id": "948d0a1a",
   "metadata": {},
   "outputs": [],
   "source": []
  },
  {
   "cell_type": "code",
   "execution_count": null,
   "id": "46abd519",
   "metadata": {},
   "outputs": [],
   "source": []
  },
  {
   "cell_type": "code",
   "execution_count": null,
   "id": "065875f2",
   "metadata": {},
   "outputs": [],
   "source": []
  },
  {
   "cell_type": "code",
   "execution_count": null,
   "id": "bf5120fe",
   "metadata": {},
   "outputs": [],
   "source": []
  },
  {
   "cell_type": "code",
   "execution_count": null,
   "id": "1f5692de",
   "metadata": {},
   "outputs": [],
   "source": []
  },
  {
   "cell_type": "code",
   "execution_count": null,
   "id": "73cf085c",
   "metadata": {},
   "outputs": [],
   "source": []
  },
  {
   "cell_type": "code",
   "execution_count": null,
   "id": "d110d6a7",
   "metadata": {},
   "outputs": [],
   "source": []
  },
  {
   "cell_type": "code",
   "execution_count": null,
   "id": "cc4c2f30",
   "metadata": {},
   "outputs": [],
   "source": []
  },
  {
   "cell_type": "code",
   "execution_count": null,
   "id": "86fc8db2",
   "metadata": {},
   "outputs": [],
   "source": []
  }
 ],
 "metadata": {
  "kernelspec": {
   "display_name": "Python 3",
   "language": "python",
   "name": "python3"
  },
  "language_info": {
   "codemirror_mode": {
    "name": "ipython",
    "version": 3
   },
   "file_extension": ".py",
   "mimetype": "text/x-python",
   "name": "python",
   "nbconvert_exporter": "python",
   "pygments_lexer": "ipython3",
   "version": "3.8.8"
  }
 },
 "nbformat": 4,
 "nbformat_minor": 5
}
