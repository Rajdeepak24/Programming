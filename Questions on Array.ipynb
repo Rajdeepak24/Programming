{
 "cells": [
  {
   "cell_type": "code",
   "execution_count": 1,
   "id": "83e61c53",
   "metadata": {},
   "outputs": [
    {
     "name": "stdout",
     "output_type": "stream",
     "text": [
      "54321\n"
     ]
    }
   ],
   "source": [
    "n = 12345\n",
    "rev = 0\n",
    "while(n>0):\n",
    "    a = n%10\n",
    "    rev = rev*10+a\n",
    "    n = n//10\n",
    "print(rev)\n",
    " "
   ]
  },
  {
   "cell_type": "code",
   "execution_count": 2,
   "id": "f94ba6f3",
   "metadata": {},
   "outputs": [
    {
     "name": "stdout",
     "output_type": "stream",
     "text": [
      "456987\n",
      "greatest elemmnt in array issz 9\n",
      "samllest number element is 4\n"
     ]
    }
   ],
   "source": [
    "# n = [2,3,8,4,0,2]\n",
    "\n",
    "# n = [3,4,7,9,1,3,5]\n",
    "n = list(input())\n",
    "l = n[0]\n",
    "s = n[0]\n",
    "\n",
    "for i in n:\n",
    " \n",
    "    if l < (i):\n",
    "        l = i\n",
    "print(\"greatest elemmnt in array issz\",l)\n",
    "for i in n:\n",
    "    if s>i:\n",
    "        s=i\n",
    "print(\"samllest number element is\",s)\n",
    "        \n",
    "    "
   ]
  },
  {
   "cell_type": "code",
   "execution_count": 3,
   "id": "58c180cc",
   "metadata": {},
   "outputs": [
    {
     "name": "stdout",
     "output_type": "stream",
     "text": [
      "1\n"
     ]
    }
   ],
   "source": [
    "n = [3,4,7,9,1,3,5]\n",
    "s = n[0]\n",
    "# print(s)\n",
    "for i in n:\n",
    "#     print(i,end=\" \")\n",
    "    if s > i:\n",
    "        s = i\n",
    "#         print(i,end=\" \")\n",
    "print(s)\n",
    "   "
   ]
  },
  {
   "cell_type": "code",
   "execution_count": 4,
   "id": "3ce56e03",
   "metadata": {},
   "outputs": [
    {
     "name": "stdout",
     "output_type": "stream",
     "text": [
      "[3, 6, 23, 8, 9, 11]\n",
      "[3, 6, 23, 8, 9, 11]\n",
      "[3, 6, 8, 23, 9, 11]\n",
      "[3, 6, 8, 9, 23, 11]\n",
      "[3, 6, 8, 9, 11, 23]\n",
      "[3, 6, 8, 9, 11, 23]\n",
      "[3, 6, 8, 9, 11, 23]\n"
     ]
    }
   ],
   "source": [
    "n = [23,6,3,8,9,11]\n",
    "\n",
    "for i in range(0,len(n)):\n",
    "    minpos = i\n",
    "#     print(i,end=\" \")\n",
    "#     print(n[i],end =\" \")\n",
    "    for j in range(i,len(n)):\n",
    "#         print(n[j], end = \" \")\n",
    "        \n",
    "        if n[j]<n[minpos]:\n",
    "            minpos = j\n",
    "            \n",
    "            \n",
    "     \n",
    "    n[i], n[minpos] = n[minpos] , n[i]\n",
    "    \n",
    "    print(n)\n",
    "\n",
    "print(n)\n",
    "        \n",
    "# o/p = [3,6,8,9,11,23]"
   ]
  },
  {
   "cell_type": "code",
   "execution_count": 5,
   "id": "511eb673",
   "metadata": {},
   "outputs": [
    {
     "name": "stdout",
     "output_type": "stream",
     "text": [
      "9\n",
      "3\n"
     ]
    }
   ],
   "source": [
    "\n",
    "n = [5,8,7,3,9,4]\n",
    "for i in range(0,len(n)):\n",
    "    minpos = i\n",
    "#     print(n[i])\n",
    "    for j in range(i+1,len(n)):\n",
    "#         print(n[j],end=\"  \")\n",
    "     \n",
    "        if n[j]<n[minpos]:\n",
    "            minpos = j\n",
    "    n[i], n[minpos] = n[minpos], n[i]\n",
    "#     print(n)\n",
    "# print(n)\n",
    "print(max(n))\n",
    "print(min(n))\n",
    "    \n",
    "\n",
    "\n",
    "# o/p =[3,4,5,7,8,9]\n"
   ]
  },
  {
   "cell_type": "code",
   "execution_count": 6,
   "id": "7f38a1c2",
   "metadata": {},
   "outputs": [
    {
     "name": "stdout",
     "output_type": "stream",
     "text": [
      "[4, 1, 2, 5, 3, 48, -4, -3]\n"
     ]
    }
   ],
   "source": [
    "n = [-4,4,1,2,5,3,-3,48]\n",
    "l = []\n",
    "for i in n:\n",
    "    if i>-1:\n",
    "        l.append(i)\n",
    "for i in n:\n",
    "    if i<-1:\n",
    "        l.append(i)\n",
    "print(l)"
   ]
  },
  {
   "cell_type": "code",
   "execution_count": 7,
   "id": "448caec1",
   "metadata": {},
   "outputs": [
    {
     "name": "stdout",
     "output_type": "stream",
     "text": [
      "intersection is [2, 3, 4, 5]\n",
      "union is [1, 2, 3, 4, 5]\n"
     ]
    }
   ],
   "source": [
    "n = [1,2,3,4,5]\n",
    "m = [2,3,4,5,6]\n",
    "l = []\n",
    "p = []\n",
    "for i in n:\n",
    "    for j in m:\n",
    "        if i==j:\n",
    "            l.append(i)\n",
    "for i in n:\n",
    "    for j in m:\n",
    "        if i!=j:\n",
    "            p.append(i)\n",
    "print(\"intersection is\",l)\n",
    "k = []\n",
    "for i in p:\n",
    "    if i not in k:\n",
    "        k.append(i)\n",
    "    \n",
    " \n",
    "print(\"union is\",k)   #time complexcity is O(n2)\n",
    "                                    # space is  O(n)"
   ]
  },
  {
   "cell_type": "code",
   "execution_count": 8,
   "id": "2b66d3d2",
   "metadata": {},
   "outputs": [
    {
     "name": "stdout",
     "output_type": "stream",
     "text": [
      "[12, 7, 8, 9, 10, 11]\n"
     ]
    }
   ],
   "source": [
    "n = [7,8,9,10,11,12]\n",
    "l = []\n",
    " \n",
    "for i in range(0,len(n)):\n",
    "    temp = n[i]\n",
    "#     print(temp)\n",
    "    n[i] = n[i-1]\n",
    "#     print(n[i-1])\n",
    "    n[i] = temp\n",
    "#     print(n[i])\n",
    "#     print(n[i-1])\n",
    "    l.append(n[i-1])\n",
    "   \n",
    "print(l)\n",
    "         \n",
    "# time complexicity is 0(n)\n",
    "# space is 0(n)\n"
   ]
  },
  {
   "cell_type": "code",
   "execution_count": 9,
   "id": "44dee37e",
   "metadata": {},
   "outputs": [
    {
     "name": "stdout",
     "output_type": "stream",
     "text": [
      "[1, 2, 3, 4, 7, 8]\n"
     ]
    }
   ],
   "source": [
    "n = [4,8,3,1,2,7]\n",
    "\n",
    "for i in range (0,len(n)):\n",
    "    minpos = i\n",
    "    for j in range(i,len(n)):\n",
    "        if n[j]<n[minpos]:\n",
    "            minpos = j\n",
    "    n[i], n[minpos] = n[minpos] , n[i]\n",
    "print(n)\n",
    "        \n",
    "\n",
    "# op= [1,2,3,4,7,8]"
   ]
  },
  {
   "cell_type": "code",
   "execution_count": 10,
   "id": "c9876039",
   "metadata": {},
   "outputs": [
    {
     "name": "stdout",
     "output_type": "stream",
     "text": [
      "7\n",
      "7\n"
     ]
    }
   ],
   "source": [
    "n = [-2,-9, -3, 4, -6,5,-8,7]\n",
    "\n",
    "maxfar = 0\n",
    "maxend = 0\n",
    "l = []\n",
    "\n",
    "for i in range (0,len(n)):\n",
    "    maxfar = maxfar+n[i]\n",
    "    l.append(maxfar)\n",
    "    if maxfar<maxend:\n",
    "        maxfar=maxend\n",
    "#         l.append(maxfar)\n",
    "    if maxend<0:\n",
    "        maxend = 0\n",
    "# print(l) \n",
    "print(max(l))               # by using inbuid fuction\n",
    "k = 0\n",
    "for i in range(0,len(n)):   # to print the heigst no without inbuid function\n",
    "#     print(n[i])\n",
    "    if n[i]>k:\n",
    "        k = n[i]\n",
    " \n",
    "print(k)\n",
    "#     \n",
    "\n"
   ]
  },
  {
   "cell_type": "code",
   "execution_count": 11,
   "id": "57732b5d",
   "metadata": {},
   "outputs": [
    {
     "name": "stdout",
     "output_type": "stream",
     "text": [
      "[2, 3, 4, 1, 5]\n"
     ]
    }
   ],
   "source": [
    "n = [2,3,4,2,1,5,1]\n",
    "l = []\n",
    "for i in n:\n",
    "    if i not in l:\n",
    "        l.append(i)\n",
    "#         print(l)   #duplicate number remove\n",
    "print(l)\n",
    "\n"
   ]
  },
  {
   "cell_type": "code",
   "execution_count": 12,
   "id": "e0f9c4b0",
   "metadata": {},
   "outputs": [
    {
     "name": "stdout",
     "output_type": "stream",
     "text": [
      "[2, 1]\n"
     ]
    }
   ],
   "source": [
    "n = [2,3,4,2,1,5,1]\n",
    "l = []\n",
    "for i in range(0,len(n)):\n",
    "    k = n[i]\n",
    "    for j in range(i+1,len(n)):\n",
    "        if k==n[j]:\n",
    "            l.append(n[i])   #duplicate number printr\n",
    "print(l)\n",
    "    \n",
    "    "
   ]
  },
  {
   "cell_type": "code",
   "execution_count": 13,
   "id": "30544b86",
   "metadata": {},
   "outputs": [
    {
     "name": "stdout",
     "output_type": "stream",
     "text": [
      "[1, 2, 4, 4, 7, 9]\n"
     ]
    }
   ],
   "source": [
    "n = [1,2,7]\n",
    "m = [9,4,4]\n",
    "k = n+m\n",
    "# print(k)\n",
    "for i in range(0,len(k)):\n",
    "    minpos = i\n",
    "    for j in range(i+1,len(k)):\n",
    "        if k[j]<k[minpos]:\n",
    "            minpos = j\n",
    "    k[i], k[minpos] = k[minpos],k[i]\n",
    "print(k)"
   ]
  },
  {
   "cell_type": "code",
   "execution_count": 14,
   "id": "8c4209bf",
   "metadata": {},
   "outputs": [
    {
     "name": "stdout",
     "output_type": "stream",
     "text": [
      "[-2, -9, -3, 4, -2, 5, -3, 7]\n",
      "7\n"
     ]
    }
   ],
   "source": [
    "n = [-2,-9, -3, 4, -6,5,-8,7]\n",
    "maxfar = 0\n",
    "maxend = 0\n",
    "l = []\n",
    "for i in range(0,len(n)):\n",
    "    maxfar = maxfar+n[i]\n",
    "    l.append(maxfar)\n",
    "    if maxend>maxfar:\n",
    "        maxfar = maxend\n",
    "    if maxend<0:\n",
    "        maxend = 0\n",
    "k = 0\n",
    "for i in range(0,len(l)):\n",
    "    if l[i]>k:\n",
    "        k = l[i]\n",
    "\n",
    "    \n",
    "print(l)\n",
    "print(k)"
   ]
  },
  {
   "cell_type": "code",
   "execution_count": 17,
   "id": "675cbdbc",
   "metadata": {},
   "outputs": [
    {
     "name": "stdout",
     "output_type": "stream",
     "text": [
      "[2, 3, 4, 5]\n",
      "[9, 7, 5, 3, 2]\n",
      "[2, 55, 44, 87, 96]\n",
      "common are  [2]\n"
     ]
    }
   ],
   "source": [
    "\n",
    "# a = int(input(\"enter the numbe of elements want to print for n1 \"))\n",
    "# b = int(input(\"enter the numbe of elements want to print n2 \"))\n",
    "# c = int(input(\"enter the numbe of elements want to print n3 \"))\n",
    "n1 = []\n",
    "n2 = []\n",
    "n3 = []\n",
    "# for i in range(0,a):\n",
    "#     a = int(input(\"Here is all the input of n1 \"))\n",
    "#     n1.append(a)\n",
    "     \n",
    "# for i in range(0,b):\n",
    "#     a = int(input(\"Here is all the input of n2 \"))\n",
    "#     n2.append(a)     \n",
    "\n",
    "# for i in range(0,c):\n",
    "#     a = int(input(\"Here is all the input of n3 \"))\n",
    "#     n3.append(a)\n",
    "#\n",
    "# print(n1)\n",
    "# print(n2)\n",
    "# print(n3)\n",
    "\n",
    "n1 = [2,3,4,5]\n",
    "n2 = [9,7,5,3,2]\n",
    "n3 = [2,55,44,87,96]\n",
    "l = []\n",
    "for i in range(0,len(n1)):\n",
    "    for j in range(0,len(n2)):\n",
    "        for k in range(0,len(n3)):\n",
    "            \n",
    "                if (n1[i]==n2[j]) & (n2[j]==n3[k]):\n",
    "                    \n",
    "                    l.append(n2[j])\n",
    "\n",
    "print(n1)\n",
    "print(n2)\n",
    "print(n3)\n",
    "print(\"common are \",l)\n",
    "\n",
    "   \n",
    "\n"
   ]
  },
  {
   "cell_type": "code",
   "execution_count": 18,
   "id": "d7b2a92f",
   "metadata": {},
   "outputs": [
    {
     "name": "stdout",
     "output_type": "stream",
     "text": [
      "[1, 2, 3, 4, 9, 10, 20]\n",
      "[1, 2, 3, 4, 5, 6]\n",
      "4\n"
     ]
    }
   ],
   "source": [
    "n = [1, 9, 3, 10, 4, 20, 2]\n",
    "count = 0\n",
    "\n",
    "def srt(n):\n",
    "    for i in range(0,len(n)):\n",
    "        minpos = i\n",
    "        for j in range(i,len(n)):\n",
    "            if n[minpos] > n[j]:\n",
    "                minpos = j\n",
    "        n[i],n[minpos] = n[minpos], n[i]\n",
    "    return(n)\n",
    "\n",
    "# print(srt(n))\n",
    "k = srt(n)\n",
    "# print(k)\n",
    "l = []\n",
    "m  = []\n",
    "for i in range(0,len(k)):\n",
    "    l.append(k[i])\n",
    "for i in range(1,len(k)):\n",
    "    m.append(i)\n",
    "for i in range(0,len(l)):\n",
    "     \n",
    "    for j in range(0,len(m)):\n",
    "        if l[i]== m[j]:\n",
    "            count+=1\n",
    "\n",
    "print(l)\n",
    "print(m)\n",
    "print(count)\n",
    "\n",
    "\n",
    "\n"
   ]
  },
  {
   "cell_type": "code",
   "execution_count": null,
   "id": "53bfb8d0",
   "metadata": {},
   "outputs": [],
   "source": []
  }
 ],
 "metadata": {
  "kernelspec": {
   "display_name": "Python 3",
   "language": "python",
   "name": "python3"
  },
  "language_info": {
   "codemirror_mode": {
    "name": "ipython",
    "version": 3
   },
   "file_extension": ".py",
   "mimetype": "text/x-python",
   "name": "python",
   "nbconvert_exporter": "python",
   "pygments_lexer": "ipython3",
   "version": "3.8.8"
  }
 },
 "nbformat": 4,
 "nbformat_minor": 5
}
