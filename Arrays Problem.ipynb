{
 "cells": [
  {
   "cell_type": "markdown",
   "id": "f0898255",
   "metadata": {},
   "source": [
    "# Arrays Questions\n"
   ]
  },
  {
   "cell_type": "code",
   "execution_count": null,
   "id": "43baa9d8",
   "metadata": {},
   "outputs": [],
   "source": [
    " "
   ]
  },
  {
   "cell_type": "code",
   "execution_count": 68,
   "id": "f35a024a",
   "metadata": {},
   "outputs": [
    {
     "name": "stdout",
     "output_type": "stream",
     "text": [
      "12345\n",
      "54321\n"
     ]
    }
   ],
   "source": [
    "# n = 12345\n",
    "n = int(input())\n",
    "rev = 0\n",
    "l = ()\n",
    "while(n>0):\n",
    "    \n",
    "    a = n%10\n",
    "#     l.append(a)\n",
    "     \n",
    "    rev = rev*10+a\n",
    "#     print(a,end=\" \")\n",
    "#     rev= a\n",
    "    n = n//10\n",
    "#     print(n)\n",
    "# k = int(l)\n",
    "print(rev)\n",
    "\n",
    "# # print(n)"
   ]
  },
  {
   "cell_type": "code",
   "execution_count": 77,
   "id": "29e8fd7d",
   "metadata": {},
   "outputs": [
    {
     "name": "stdout",
     "output_type": "stream",
     "text": [
      "54321\n"
     ]
    }
   ],
   "source": [
    "n = 12345\n",
    "rev = 0\n",
    "while(n>0):\n",
    "    a = n%10\n",
    "    rev = rev*10+a\n",
    "    n = n//10\n",
    "print(rev)\n",
    "\n",
    "# new one but in list\n",
    "# n = 12345\n",
    "# l = []\n",
    "# while(n>0):\n",
    "#     a = n%10\n",
    "# #     print(a, end=\" \")\n",
    "#     l.append(a)\n",
    "#     n = n//10\n",
    "# print(l)\n",
    "\n",
    "\n"
   ]
  },
  {
   "cell_type": "code",
   "execution_count": null,
   "id": "67e36809",
   "metadata": {},
   "outputs": [],
   "source": []
  },
  {
   "cell_type": "code",
   "execution_count": 4,
   "id": "62fed4d8",
   "metadata": {},
   "outputs": [
    {
     "name": "stdout",
     "output_type": "stream",
     "text": [
      "[9, 8, 7, 5, 3, 1]\n",
      "2\n",
      "minn 8\n"
     ]
    }
   ],
   "source": [
    "n = [5,8,3,1,9,7]\n",
    "l = 0\n",
    "\n",
    "for i in range(0,len(n)):\n",
    "    minpos= i\n",
    "    for j in range(i,len(n)):\n",
    "#         print(n[j],end=\" \")\n",
    "        if n[minpos]> n[j]:\n",
    "            minpos = j\n",
    "#             print(n[j],end=\" \")\n",
    "    n[i],n[minpos]=n[minpos],n[i]\n",
    "\n",
    "# k = int(input())\n",
    "# print(k)\n",
    "# print(\"maxx\",n[k])\n",
    "l = n[::-1]\n",
    "print(l)\n",
    "p = int(input())\n",
    "print(\"minn\",l[p-1])\n",
    "\n",
    "\n",
    "# op = [1,3,5,7,8,9]"
   ]
  },
  {
   "cell_type": "code",
   "execution_count": 20,
   "id": "7bfbb9bb",
   "metadata": {},
   "outputs": [
    {
     "name": "stdout",
     "output_type": "stream",
     "text": [
      "9\n",
      "1\n"
     ]
    }
   ],
   "source": [
    "n = [3,1,4,9]\n",
    "maxx = n[0]\n",
    "minn = n[0]\n",
    "for i in range(0,len(n)):\n",
    "    if n[i]>maxx:\n",
    "        maxx= n[i]\n",
    "for i in range(0,len(n)):\n",
    "    if n[i]<minn:\n",
    "        minn =n[i]\n",
    "print(maxx)\n",
    "print(minn)"
   ]
  },
  {
   "cell_type": "code",
   "execution_count": null,
   "id": "e45e5154",
   "metadata": {},
   "outputs": [],
   "source": []
  },
  {
   "cell_type": "code",
   "execution_count": null,
   "id": "95a936a4",
   "metadata": {},
   "outputs": [],
   "source": []
  },
  {
   "cell_type": "code",
   "execution_count": null,
   "id": "94f0d0e3",
   "metadata": {},
   "outputs": [],
   "source": []
  },
  {
   "cell_type": "code",
   "execution_count": null,
   "id": "e9a31b32",
   "metadata": {},
   "outputs": [],
   "source": []
  },
  {
   "cell_type": "code",
   "execution_count": null,
   "id": "57001e32",
   "metadata": {},
   "outputs": [],
   "source": []
  },
  {
   "cell_type": "code",
   "execution_count": null,
   "id": "b79b221f",
   "metadata": {},
   "outputs": [],
   "source": []
  },
  {
   "cell_type": "code",
   "execution_count": null,
   "id": "d6a891bf",
   "metadata": {},
   "outputs": [],
   "source": []
  },
  {
   "cell_type": "markdown",
   "id": "64d38f98",
   "metadata": {},
   "source": []
  },
  {
   "cell_type": "code",
   "execution_count": 13,
   "id": "910cb25c",
   "metadata": {},
   "outputs": [
    {
     "name": "stdout",
     "output_type": "stream",
     "text": [
      "[0, 1, 3, 7, 9]\n"
     ]
    }
   ],
   "source": [
    "n = [7,3,9,0,1]\n",
    "\n",
    "for i in range(0,len(n)):\n",
    "    minpos = i\n",
    "    for j in range(i,len(n)):\n",
    "        if n[minpos]>n[j]:\n",
    "            minpos=j\n",
    "    n[i],n[minpos]=n[minpos],n[i]\n",
    " \n",
    "print(n)\n",
    "\n",
    "# o/p = [0,1,3,7,9]"
   ]
  },
  {
   "cell_type": "code",
   "execution_count": 10,
   "id": "3309c749",
   "metadata": {},
   "outputs": [
    {
     "name": "stdout",
     "output_type": "stream",
     "text": [
      "[-12, -13, -5, -7, -3, -6, 11, 6, 5]\n"
     ]
    }
   ],
   "source": [
    "# n = [1,-1,0,3,-4,7,-9]\n",
    "n = [-12, 11, -13, -5, 6, -7, 5, -3, -6]\n",
    "l = []\n",
    "for i in range(0,len(n)):\n",
    "    \n",
    "    if(n[i]<1):\n",
    "#         print(n[i])\n",
    "        l.append(n[i])\n",
    "for i in range(0,len(n)):\n",
    "    if(n[i]>1):\n",
    "       l.append(n[i])\n",
    "print(l)\n",
    "\n",
    "\n",
    "# op -12 -13 -5 -7 -3 -6 11 6 5"
   ]
  },
  {
   "cell_type": "code",
   "execution_count": null,
   "id": "22b5dc1f",
   "metadata": {},
   "outputs": [],
   "source": []
  },
  {
   "cell_type": "code",
   "execution_count": 11,
   "id": "b62c7f83",
   "metadata": {},
   "outputs": [
    {
     "name": "stdout",
     "output_type": "stream",
     "text": [
      "[5, 5, 5, 5, 5, 5, 5, 5, 5, 3, 3, 3, 3, 3, 3, 3, 3, 3, 3]\n"
     ]
    }
   ],
   "source": [
    "n = [5 ,3]\n",
    "m = [1 ,2 ,3, 4, 5]\n",
    "l = [1, 2, 3]\n",
    "p = []\n",
    "\n",
    "for i in range(0,len(n)):\n",
    "#     print(n[i])\n",
    "    for j in range(0,len(m)):\n",
    "#         print(m[j])\n",
    "        for k in range(0,len(l)):\n",
    "#             print(l[k])\n",
    "            if ((n[i]!=m[j]) and (m[j]!=l[k])):\n",
    "                p.append(n[i])\n",
    "        \n",
    "print(p)           \n"
   ]
  },
  {
   "cell_type": "code",
   "execution_count": null,
   "id": "a4d2e2c7",
   "metadata": {},
   "outputs": [],
   "source": []
  },
  {
   "cell_type": "code",
   "execution_count": 17,
   "id": "e335128c",
   "metadata": {},
   "outputs": [
    {
     "name": "stdout",
     "output_type": "stream",
     "text": [
      "akjsdn\n"
     ]
    }
   ],
   "source": [
    "n = 2\n",
    "m = 2\n",
    "if n==m:\n",
    "    print(\"akjsdn\")"
   ]
  },
  {
   "cell_type": "code",
   "execution_count": null,
   "id": "3c4fdbf6",
   "metadata": {},
   "outputs": [],
   "source": []
  },
  {
   "cell_type": "code",
   "execution_count": null,
   "id": "ed3ec605",
   "metadata": {},
   "outputs": [],
   "source": []
  },
  {
   "cell_type": "code",
   "execution_count": null,
   "id": "650d2373",
   "metadata": {},
   "outputs": [],
   "source": []
  },
  {
   "cell_type": "code",
   "execution_count": null,
   "id": "b2dfdff8",
   "metadata": {},
   "outputs": [],
   "source": []
  },
  {
   "cell_type": "code",
   "execution_count": null,
   "id": "90e1bf50",
   "metadata": {},
   "outputs": [],
   "source": []
  },
  {
   "cell_type": "code",
   "execution_count": null,
   "id": "982f07e2",
   "metadata": {},
   "outputs": [],
   "source": []
  },
  {
   "cell_type": "code",
   "execution_count": null,
   "id": "69f867a0",
   "metadata": {},
   "outputs": [],
   "source": []
  },
  {
   "cell_type": "code",
   "execution_count": null,
   "id": "e9018e56",
   "metadata": {},
   "outputs": [],
   "source": []
  },
  {
   "cell_type": "code",
   "execution_count": null,
   "id": "3e4fd421",
   "metadata": {},
   "outputs": [],
   "source": []
  },
  {
   "cell_type": "code",
   "execution_count": null,
   "id": "4bd5fa5e",
   "metadata": {},
   "outputs": [],
   "source": []
  },
  {
   "cell_type": "code",
   "execution_count": null,
   "id": "cb3b83f2",
   "metadata": {},
   "outputs": [],
   "source": []
  },
  {
   "cell_type": "code",
   "execution_count": null,
   "id": "917d551d",
   "metadata": {},
   "outputs": [],
   "source": []
  },
  {
   "cell_type": "code",
   "execution_count": null,
   "id": "8b448990",
   "metadata": {},
   "outputs": [],
   "source": []
  },
  {
   "cell_type": "code",
   "execution_count": null,
   "id": "f43b55da",
   "metadata": {},
   "outputs": [],
   "source": []
  },
  {
   "cell_type": "code",
   "execution_count": null,
   "id": "13094dea",
   "metadata": {},
   "outputs": [],
   "source": []
  },
  {
   "cell_type": "code",
   "execution_count": null,
   "id": "491b5435",
   "metadata": {},
   "outputs": [],
   "source": []
  }
 ],
 "metadata": {
  "kernelspec": {
   "display_name": "Python 3",
   "language": "python",
   "name": "python3"
  },
  "language_info": {
   "codemirror_mode": {
    "name": "ipython",
    "version": 3
   },
   "file_extension": ".py",
   "mimetype": "text/x-python",
   "name": "python",
   "nbconvert_exporter": "python",
   "pygments_lexer": "ipython3",
   "version": "3.8.8"
  }
 },
 "nbformat": 4,
 "nbformat_minor": 5
}
